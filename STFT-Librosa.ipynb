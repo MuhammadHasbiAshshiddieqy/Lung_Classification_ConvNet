{
 "cells": [
  {
   "cell_type": "code",
   "execution_count": 1,
   "metadata": {},
   "outputs": [],
   "source": [
    "import glob\n",
    "import numpy as np\n",
    "from matplotlib import pyplot as plt\n",
    "import librosa\n",
    "import librosa.display\n",
    "\n",
    "%matplotlib inline"
   ]
  },
  {
   "cell_type": "code",
   "execution_count": 5,
   "metadata": {},
   "outputs": [
    {
     "name": "stdout",
     "output_type": "stream",
     "text": [
      "Sisa file yang harus diolah : 1979\n"
     ]
    },
    {
     "data": {
      "text/plain": [
       "'\\nfor file in files:\\n    y, sr = librosa.load(\"Data/Preprocessed Data/Audio/\"+file[(file.index(\"\\\\\"))+1:])\\n    D = np.abs(librosa.stft(y,center=False))\\n    librosa.display.specshow(librosa.amplitude_to_db(D,ref=np.max), y_axis=\\'log\\', x_axis=\\'time\\')\\n    plt.axis(\"off\")\\n    plt.savefig(\"Data/Spectogram Librosa/\"+file[(file.index(\"\\\\\"))+1:-4], bbox_inches=\"tight\")'"
      ]
     },
     "execution_count": 5,
     "metadata": {},
     "output_type": "execute_result"
    }
   ],
   "source": [
    "files = glob.glob(\"Data/Preprocessed Data/Audio/*.wav\")\n",
    "dones = glob.glob(\"Data/Spectogram Librosa/*.png\")\n",
    "\n",
    "for spectogramed in dones:\n",
    "    files.remove(\"Data/Preprocessed Data/Audio\\\\\"+spectogramed[(spectogramed.index(\"\\\\\"))+1:-4]+\".wav\")\n",
    "\n",
    "print(f'Sisa file yang harus diolah : {len(files)}')\n",
    "\n",
    "for file in files:\n",
    "    y, sr = librosa.load(\"Data/Preprocessed Data/Audio/\"+file[(file.index(\"\\\\\"))+1:])\n",
    "    D = np.abs(librosa.stft(y,center=False))\n",
    "    librosa.display.specshow(librosa.amplitude_to_db(D,ref=np.max), y_axis='log', x_axis='time')\n",
    "    plt.axis(\"off\")\n",
    "    plt.savefig(\"Data/Spectogram Librosa/\"+file[(file.index(\"\\\\\"))+1:-4], bbox_inches=\"tight\")"
   ]
  },
  {
   "cell_type": "markdown",
   "metadata": {},
   "source": [
    "# Time Stretch (0.5 and 1.5)"
   ]
  },
  {
   "cell_type": "code",
   "execution_count": null,
   "metadata": {},
   "outputs": [],
   "source": [
    "files = glob.glob(\"Data/Preprocessed Data/Audio/*.wav\")\n",
    "dones = glob.glob(\"Data/Spectogram Librosa/Time Stretch SeLim/*.png\")\n",
    "\n",
    "for spectogramed in dones:\n",
    "    files.remove(\"Data/Preprocessed Data/Audio\\\\\"+spectogramed[(spectogramed.index(\"\\\\\"))+1:-4]+\".wav\")\n",
    "\n",
    "print(f'Sisa file yang harus diolah : {len(files)}')\n",
    "\n",
    "for file in files:\n",
    "    y, sr = librosa.load(\"Data/Preprocessed Data/Audio/\"+file[(file.index(\"\\\\\"))+1:])\n",
    "    y_slow = librosa.effects.time_stretch(y, 0.5)\n",
    "    D = np.abs(librosa.stft(y_slow,center=False))\n",
    "    librosa.display.specshow(librosa.amplitude_to_db(D,ref=np.max), y_axis='log', x_axis='time')\n",
    "    plt.axis(\"off\")\n",
    "    plt.savefig(\"Data/Spectogram Librosa/Time Stretch Selim/*.png\"+file[(file.index(\"\\\\\"))+1:-4], bbox_inches=\"tight\")"
   ]
  },
  {
   "cell_type": "code",
   "execution_count": null,
   "metadata": {},
   "outputs": [],
   "source": [
    "files = glob.glob(\"Data/Preprocessed Data/Audio/*.wav\")\n",
    "dones = glob.glob(\"Data/Spectogram Librosa/Time Stretch SaLim/*.png\")\n",
    "\n",
    "for spectogramed in dones:\n",
    "    files.remove(\"Data/Preprocessed Data/Audio\\\\\"+spectogramed[(spectogramed.index(\"\\\\\"))+1:-4]+\".wav\")\n",
    "\n",
    "print(f'Sisa file yang harus diolah : {len(files)}')\n",
    "    \n",
    "for file in files:\n",
    "    y, sr = librosa.load(\"Data/Preprocessed Data/Audio/\"+file[(file.index(\"\\\\\"))+1:])\n",
    "    y_fast = librosa.effects.time_stretch(y, 1.5)\n",
    "    D = np.abs(librosa.stft(y_fast,center=False))\n",
    "    librosa.display.specshow(librosa.amplitude_to_db(D,ref=np.max), y_axis='log', x_axis='time')\n",
    "    plt.axis(\"off\")\n",
    "    plt.savefig(\"Data/Spectogram Librosa/Time Stretch Salim/*.png\"+file[(file.index(\"\\\\\"))+1:-4], bbox_inches=\"tight\")"
   ]
  },
  {
   "cell_type": "markdown",
   "metadata": {},
   "source": [
    "# Pitch Shift"
   ]
  },
  {
   "cell_type": "code",
   "execution_count": null,
   "metadata": {},
   "outputs": [],
   "source": [
    "files = glob.glob(\"Data/Preprocessed Data/Audio/*.wav\")\n",
    "dones = glob.glob(\"Data/Spectogram Librosa/Pitch Shift FoHS/*.png\")\n",
    "\n",
    "for spectogramed in dones:\n",
    "    files.remove(\"Data/Preprocessed Data/Audio\\\\\"+spectogramed[(spectogramed.index(\"\\\\\"))+1:-4]+\".wav\")\n",
    "\n",
    "print(f'Sisa file yang harus diolah : {len(files)}')\n",
    "\n",
    "for file in files:\n",
    "    y, sr = librosa.load(\"Data/Preprocessed Data/Audio/\"+file[(file.index(\"\\\\\"))+1:])\n",
    "    #Four half-steps\n",
    "    y_third = librosa.effects.pitch_shift(y, sr, n_steps=4)\n",
    "    D = np.abs(librosa.stft(y_third,center=False))\n",
    "    librosa.display.specshow(librosa.amplitude_to_db(D,ref=np.max), y_axis='log', x_axis='time')\n",
    "    plt.axis(\"off\")\n",
    "    plt.savefig(\"Data/Spectogram Librosa/Time Stretch FoHS/*.png\"+file[(file.index(\"\\\\\"))+1:-4], bbox_inches=\"tight\")"
   ]
  }
 ],
 "metadata": {
  "kernelspec": {
   "display_name": "MachineLearning",
   "language": "python",
   "name": "machinelearning"
  },
  "language_info": {
   "codemirror_mode": {
    "name": "ipython",
    "version": 3
   },
   "file_extension": ".py",
   "mimetype": "text/x-python",
   "name": "python",
   "nbconvert_exporter": "python",
   "pygments_lexer": "ipython3",
   "version": "3.7.3"
  }
 },
 "nbformat": 4,
 "nbformat_minor": 4
}
