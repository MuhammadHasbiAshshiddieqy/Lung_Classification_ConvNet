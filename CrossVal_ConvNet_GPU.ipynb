{
  "nbformat": 4,
  "nbformat_minor": 0,
  "metadata": {
    "colab": {
      "name": "CrossVal_ConvNet_GPU.ipynb",
      "provenance": [],
      "collapsed_sections": [],
      "authorship_tag": "ABX9TyO0F2QDm9TpJ8Foke+MEWyf",
      "include_colab_link": true
    },
    "kernelspec": {
      "name": "python3",
      "display_name": "Python 3"
    },
    "accelerator": "GPU"
  },
  "cells": [
    {
      "cell_type": "markdown",
      "metadata": {
        "id": "view-in-github",
        "colab_type": "text"
      },
      "source": [
        "<a href=\"https://colab.research.google.com/github/MuhammadHasbiAshshiddieqy/Lung_Classification_ConvNet/blob/master/CrossVal_ConvNet_GPU.ipynb\" target=\"_parent\"><img src=\"https://colab.research.google.com/assets/colab-badge.svg\" alt=\"Open In Colab\"/></a>"
      ]
    },
    {
      "cell_type": "code",
      "metadata": {
        "id": "At2hgfbjJPm8",
        "colab_type": "code",
        "outputId": "a26c26da-71ba-4d45-d88e-90694061ffbc",
        "colab": {
          "base_uri": "https://localhost:8080/",
          "height": 35
        }
      },
      "source": [
        "from google.colab import drive\n",
        "drive.mount('/content/gdrive')"
      ],
      "execution_count": 0,
      "outputs": [
        {
          "output_type": "stream",
          "text": [
            "Drive already mounted at /content/gdrive; to attempt to forcibly remount, call drive.mount(\"/content/gdrive\", force_remount=True).\n"
          ],
          "name": "stdout"
        }
      ]
    },
    {
      "cell_type": "code",
      "metadata": {
        "id": "BmIwNKFA4TaS",
        "colab_type": "code",
        "outputId": "6520f135-fe1d-4a8a-e02f-079bc0fca3d0",
        "colab": {
          "base_uri": "https://localhost:8080/",
          "height": 35
        }
      },
      "source": [
        "import tensorflow as tf\n",
        "print(tf.test.gpu_device_name())"
      ],
      "execution_count": 0,
      "outputs": [
        {
          "output_type": "stream",
          "text": [
            "/device:GPU:0\n"
          ],
          "name": "stdout"
        }
      ]
    },
    {
      "cell_type": "code",
      "metadata": {
        "id": "TnQ2DOyI5oNr",
        "colab_type": "code",
        "outputId": "058b3a95-e2bb-4d3a-d733-480c959d6ebe",
        "colab": {
          "base_uri": "https://localhost:8080/",
          "height": 35
        }
      },
      "source": [
        "import os\n",
        "os.chdir('/content/gdrive/My Drive/Code TA/Data/Spectogram Librosa')\n",
        "os.getcwd()"
      ],
      "execution_count": 0,
      "outputs": [
        {
          "output_type": "execute_result",
          "data": {
            "text/plain": [
              "'/content/gdrive/My Drive/Code TA/Data/Spectogram Librosa'"
            ]
          },
          "metadata": {
            "tags": []
          },
          "execution_count": 5
        }
      ]
    },
    {
      "cell_type": "code",
      "metadata": {
        "id": "K-2ddW5b6Q8f",
        "colab_type": "code",
        "outputId": "d8a8e62d-7e20-4024-c748-15d66aa447fc",
        "colab": {
          "base_uri": "https://localhost:8080/",
          "height": 89
        }
      },
      "source": [
        "from __future__ import print_function, division\n",
        "\n",
        "import numpy as np\n",
        "import random\n",
        "import os\n",
        "import glob\n",
        "import cv2\n",
        "import datetime\n",
        "import pandas as pd\n",
        "import time\n",
        "import h5py\n",
        "import csv\n",
        "\n",
        "from sklearn.metrics import log_loss, confusion_matrix, classification_report\n",
        "from sklearn.utils import shuffle\n",
        "from sklearn import model_selection\n",
        "from sklearn.model_selection import train_test_split, StratifiedKFold\n",
        "from PIL import Image, ImageChops, ImageOps\n",
        "\n",
        "import matplotlib.pyplot as plt\n",
        "import seaborn as sns\n",
        "\n",
        "from tensorflow.keras.models import load_model\n",
        "from tensorflow.keras.callbacks import EarlyStopping, ModelCheckpoint, Callback, ReduceLROnPlateau\n",
        "from tensorflow.keras.regularizers import l1_l2\n",
        "from tensorflow.keras.optimizers import RMSprop\n",
        "from tensorflow.keras import backend as K\n",
        "from keras.utils import np_utils\n",
        "from tensorflow.keras.preprocessing.image import ImageDataGenerator, load_img, img_to_array\n",
        "from tensorflow.keras import optimizers\n",
        "from tensorflow.keras.models import Sequential, model_from_json\n",
        "from tensorflow.keras.layers import Conv2D, MaxPooling2D, ZeroPadding2D, Activation, Dropout, Flatten, Dense, BatchNormalization\n",
        "\n",
        "from keras.preprocessing.image import ImageDataGenerator"
      ],
      "execution_count": 0,
      "outputs": [
        {
          "output_type": "stream",
          "text": [
            "/usr/local/lib/python3.6/dist-packages/statsmodels/tools/_testing.py:19: FutureWarning: pandas.util.testing is deprecated. Use the functions in the public API at pandas.testing instead.\n",
            "  import pandas.util.testing as tm\n",
            "Using TensorFlow backend.\n"
          ],
          "name": "stderr"
        }
      ]
    },
    {
      "cell_type": "code",
      "metadata": {
        "id": "9fQ4uJRK6yPM",
        "colab_type": "code",
        "outputId": "9cf25d20-fcdb-45ad-d9f1-7a3fdb080775",
        "colab": {
          "base_uri": "https://localhost:8080/",
          "height": 202
        }
      },
      "source": [
        "#Get csv file\n",
        "df = pd.read_csv('/content/gdrive/My Drive/Code TA/Data/Preprocessed Data/LabelEncoded.csv')\n",
        "df.head()"
      ],
      "execution_count": 0,
      "outputs": [
        {
          "output_type": "execute_result",
          "data": {
            "text/html": [
              "<div>\n",
              "<style scoped>\n",
              "    .dataframe tbody tr th:only-of-type {\n",
              "        vertical-align: middle;\n",
              "    }\n",
              "\n",
              "    .dataframe tbody tr th {\n",
              "        vertical-align: top;\n",
              "    }\n",
              "\n",
              "    .dataframe thead th {\n",
              "        text-align: right;\n",
              "    }\n",
              "</style>\n",
              "<table border=\"1\" class=\"dataframe\">\n",
              "  <thead>\n",
              "    <tr style=\"text-align: right;\">\n",
              "      <th></th>\n",
              "      <th>Id</th>\n",
              "      <th>File</th>\n",
              "      <th>StartRC</th>\n",
              "      <th>EndRC</th>\n",
              "      <th>Status</th>\n",
              "      <th>Class</th>\n",
              "    </tr>\n",
              "  </thead>\n",
              "  <tbody>\n",
              "    <tr>\n",
              "      <th>0</th>\n",
              "      <td>0</td>\n",
              "      <td>101</td>\n",
              "      <td>0.036</td>\n",
              "      <td>1.907</td>\n",
              "      <td>1</td>\n",
              "      <td>0</td>\n",
              "    </tr>\n",
              "    <tr>\n",
              "      <th>1</th>\n",
              "      <td>1</td>\n",
              "      <td>101</td>\n",
              "      <td>1.907</td>\n",
              "      <td>4.521</td>\n",
              "      <td>0</td>\n",
              "      <td>0</td>\n",
              "    </tr>\n",
              "    <tr>\n",
              "      <th>2</th>\n",
              "      <td>2</td>\n",
              "      <td>101</td>\n",
              "      <td>4.521</td>\n",
              "      <td>7.193</td>\n",
              "      <td>1</td>\n",
              "      <td>0</td>\n",
              "    </tr>\n",
              "    <tr>\n",
              "      <th>3</th>\n",
              "      <td>3</td>\n",
              "      <td>101</td>\n",
              "      <td>7.193</td>\n",
              "      <td>9.750</td>\n",
              "      <td>0</td>\n",
              "      <td>0</td>\n",
              "    </tr>\n",
              "    <tr>\n",
              "      <th>4</th>\n",
              "      <td>4</td>\n",
              "      <td>101</td>\n",
              "      <td>9.750</td>\n",
              "      <td>12.407</td>\n",
              "      <td>1</td>\n",
              "      <td>0</td>\n",
              "    </tr>\n",
              "  </tbody>\n",
              "</table>\n",
              "</div>"
            ],
            "text/plain": [
              "   Id  File  StartRC   EndRC  Status  Class\n",
              "0   0   101    0.036   1.907       1      0\n",
              "1   1   101    1.907   4.521       0      0\n",
              "2   2   101    4.521   7.193       1      0\n",
              "3   3   101    7.193   9.750       0      0\n",
              "4   4   101    9.750  12.407       1      0"
            ]
          },
          "metadata": {
            "tags": []
          },
          "execution_count": 7
        }
      ]
    },
    {
      "cell_type": "code",
      "metadata": {
        "id": "esdXlbWeDvq2",
        "colab_type": "code",
        "outputId": "c4e5b54a-2cc1-40e0-a3d1-1efc37fe17e5",
        "colab": {
          "base_uri": "https://localhost:8080/",
          "height": 202
        }
      },
      "source": [
        "def append_ext(id):\n",
        "    return id+\".png\"\n",
        "\n",
        "df_for_model = df[[\"Id\",\"Class\"]].astype(\"str\")\n",
        "df_for_model[\"Id\"]=df_for_model[\"Id\"].apply(append_ext)\n",
        "df_for_model.head()"
      ],
      "execution_count": 0,
      "outputs": [
        {
          "output_type": "execute_result",
          "data": {
            "text/html": [
              "<div>\n",
              "<style scoped>\n",
              "    .dataframe tbody tr th:only-of-type {\n",
              "        vertical-align: middle;\n",
              "    }\n",
              "\n",
              "    .dataframe tbody tr th {\n",
              "        vertical-align: top;\n",
              "    }\n",
              "\n",
              "    .dataframe thead th {\n",
              "        text-align: right;\n",
              "    }\n",
              "</style>\n",
              "<table border=\"1\" class=\"dataframe\">\n",
              "  <thead>\n",
              "    <tr style=\"text-align: right;\">\n",
              "      <th></th>\n",
              "      <th>Id</th>\n",
              "      <th>Class</th>\n",
              "    </tr>\n",
              "  </thead>\n",
              "  <tbody>\n",
              "    <tr>\n",
              "      <th>0</th>\n",
              "      <td>0.png</td>\n",
              "      <td>0</td>\n",
              "    </tr>\n",
              "    <tr>\n",
              "      <th>1</th>\n",
              "      <td>1.png</td>\n",
              "      <td>0</td>\n",
              "    </tr>\n",
              "    <tr>\n",
              "      <th>2</th>\n",
              "      <td>2.png</td>\n",
              "      <td>0</td>\n",
              "    </tr>\n",
              "    <tr>\n",
              "      <th>3</th>\n",
              "      <td>3.png</td>\n",
              "      <td>0</td>\n",
              "    </tr>\n",
              "    <tr>\n",
              "      <th>4</th>\n",
              "      <td>4.png</td>\n",
              "      <td>0</td>\n",
              "    </tr>\n",
              "  </tbody>\n",
              "</table>\n",
              "</div>"
            ],
            "text/plain": [
              "      Id Class\n",
              "0  0.png     0\n",
              "1  1.png     0\n",
              "2  2.png     0\n",
              "3  3.png     0\n",
              "4  4.png     0"
            ]
          },
          "metadata": {
            "tags": []
          },
          "execution_count": 8
        }
      ]
    },
    {
      "cell_type": "code",
      "metadata": {
        "id": "f0jqUyrWEsGj",
        "colab_type": "code",
        "outputId": "a3d809b5-88be-4714-8725-f73bc2071016",
        "colab": {
          "base_uri": "https://localhost:8080/",
          "height": 279
        }
      },
      "source": [
        "df_for_model['Class'].value_counts().plot.bar()"
      ],
      "execution_count": 0,
      "outputs": [
        {
          "output_type": "execute_result",
          "data": {
            "text/plain": [
              "<matplotlib.axes._subplots.AxesSubplot at 0x7fb813f90898>"
            ]
          },
          "metadata": {
            "tags": []
          },
          "execution_count": 9
        },
        {
          "output_type": "display_data",
          "data": {
            "image/png": "[encoded data removed]",
            "text/plain": [
              "<Figure size 432x288 with 1 Axes>"
            ]
          },
          "metadata": {
            "tags": [],
            "needs_background": "light"
          }
        }
      ]
    },
    {
      "cell_type": "code",
      "metadata": {
        "id": "KpnIYAE_FumM",
        "colab_type": "code",
        "colab": {}
      },
      "source": [
        "train_validate_df, final_test_df = train_test_split(df_for_model, test_size=0.15, stratify = df_for_model['Class'].values, random_state=42)\n",
        "\n",
        "train_validate_df = train_validate_df.reset_index(drop=True)\n",
        "test_df = final_test_df.reset_index(drop=True)"
      ],
      "execution_count": 0,
      "outputs": []
    },
    {
      "cell_type": "code",
      "metadata": {
        "id": "Up9l4E51vm8B",
        "colab_type": "code",
        "colab": {}
      },
      "source": [
        "def augmentasiTrain(training_df):\n",
        "  def append_psf(id):\n",
        "      return \"Pitch Shift FoHS/\"+id\n",
        "\n",
        "  def append_tsn(id):\n",
        "      return \"Time Stretch NoLim/\"+id\n",
        "  \n",
        "  def append_tss(id):\n",
        "      return \"Time Stretch SaLim/\"+id\n",
        "\n",
        "  df_PSF = training_df.copy()\n",
        "  df_PSF[\"Id\"]=df_PSF[\"Id\"].apply(append_psf)\n",
        "  df_TSN = training_df.copy()\n",
        "  df_TSN[\"Id\"]=df_TSN[\"Id\"].apply(append_tsn)\n",
        "  df_TSS = training_df.copy()\n",
        "  df_TSS[\"Id\"]=df_TSS[\"Id\"].apply(append_tss)\n",
        "  return pd.concat([training_df,df_PSF,df_TSN,df_TSS],ignore_index=True)"
      ],
      "execution_count": 0,
      "outputs": []
    },
    {
      "cell_type": "code",
      "metadata": {
        "id": "b7OZ4f-lF-yK",
        "colab_type": "code",
        "colab": {}
      },
      "source": [
        "IMAGE_WIDTH=224\n",
        "IMAGE_HEIGHT=224\n",
        "IMAGE_SIZE=(IMAGE_WIDTH, IMAGE_HEIGHT)\n",
        "IMAGE_CHANNELS=3 # RGB color\n",
        "IMAGE_SIZE_INPUT = (IMAGE_WIDTH, IMAGE_HEIGHT, IMAGE_CHANNELS)\n",
        "\n",
        "batch_size=15"
      ],
      "execution_count": 0,
      "outputs": []
    },
    {
      "cell_type": "code",
      "metadata": {
        "id": "p3BfTBkrGNLm",
        "colab_type": "code",
        "outputId": "4b75bfd1-eccd-4c53-c64d-4a47b24231d3",
        "colab": {
          "base_uri": "https://localhost:8080/",
          "height": 35
        }
      },
      "source": [
        "datagen = ImageDataGenerator(rescale=1./255)\n",
        "\n",
        "final_test_generator = datagen.flow_from_dataframe(\n",
        "    final_test_df, \n",
        "    \"/content/gdrive/My Drive/Code TA/Data/Spectogram Librosa\", \n",
        "    x_col='Id',\n",
        "    y_col='Class',\n",
        "    target_size=IMAGE_SIZE,\n",
        "    class_mode=\"categorical\",\n",
        "    batch_size=1\n",
        ")"
      ],
      "execution_count": 0,
      "outputs": [
        {
          "output_type": "stream",
          "text": [
            "Found 356 validated image filenames belonging to 4 classes.\n"
          ],
          "name": "stdout"
        }
      ]
    },
    {
      "cell_type": "code",
      "metadata": {
        "id": "2zkr7kZnVt74",
        "colab_type": "code",
        "colab": {}
      },
      "source": [
        "def get_callbacks(name_weights, patience_lr):\n",
        "    mcp_save = ModelCheckpoint(name_weights, save_best_only=True, monitor='val_loss', mode='min')\n",
        "    learning_rate_reduction = ReduceLROnPlateau(monitor='val_accuracy', \n",
        "                                            patience=patience_lr, \n",
        "                                            verbose=1, \n",
        "                                            factor=0.5, \n",
        "                                            min_lr=0.00001)\n",
        "    return [mcp_save, learning_rate_reduction]"
      ],
      "execution_count": 0,
      "outputs": []
    },
    {
      "cell_type": "code",
      "metadata": {
        "id": "vsjLI89cZbpJ",
        "colab_type": "code",
        "colab": {}
      },
      "source": [
        "def get_model():\n",
        "  model = Sequential()\n",
        "\n",
        "  model.add(Conv2D(32, (3, 3), padding='same', activation='elu', input_shape=IMAGE_SIZE_INPUT))\n",
        "  model.add(BatchNormalization())\n",
        "  model.add(MaxPooling2D(pool_size=(2, 2)))\n",
        "\n",
        "  model.add(Conv2D(64, (3,3), padding='same', activation=\"elu\"))\n",
        "  model.add(BatchNormalization())\n",
        "  model.add(MaxPooling2D(pool_size=(2, 2)))\n",
        "\n",
        "  model.add(Conv2D(128, (3,3), padding='same', activation=\"elu\"))\n",
        "  model.add(BatchNormalization())\n",
        "  model.add(MaxPooling2D(pool_size=(2, 2)))\n",
        "\n",
        "  model.add(Conv2D(256, (3,3), padding='same', activation=\"elu\"))\n",
        "  model.add(BatchNormalization())\n",
        "  model.add(MaxPooling2D(pool_size=(2, 2)))\n",
        "\n",
        "  model.add(Flatten())\n",
        "  model.add(Dense(512, activation='elu')) \n",
        "  model.add(Dropout(0.5))\n",
        "  model.add(Dense(256, activation='elu'))\n",
        "  model.add(Dense(4, activation='softmax'))\n",
        "\n",
        "  model.compile(optimizer=tf.keras.optimizers.RMSprop(lr=0.0005, decay=1e-6), loss='categorical_crossentropy', metrics=['accuracy'])\n",
        "\n",
        "  return model"
      ],
      "execution_count": 0,
      "outputs": []
    },
    {
      "cell_type": "code",
      "metadata": {
        "id": "24O3RmRzMrnx",
        "colab_type": "code",
        "outputId": "96013b84-670b-45a9-d6d2-d754c6b8d96d",
        "colab": {
          "base_uri": "https://localhost:8080/",
          "height": 1000
        }
      },
      "source": [
        "from sklearn.model_selection import cross_validate\n",
        "\n",
        "with tf.device('/device:GPU:0'):  \n",
        "\n",
        "  skf = StratifiedKFold(n_splits=5, shuffle=True, random_state=None)\n",
        "  X = train_validate_df[\"Id\"].values\n",
        "  y = train_validate_df[\"Class\"].values\n",
        "  i = 1\n",
        "  for train_index, test_index in skf.split(X, y):\n",
        "    print(f\"====================***   K-Fold {i}   ***====================\")\n",
        "    i+=1\n",
        "    # Make Train and Validation DataFrame \n",
        "    TrainVal_dict = {\"Id\": X[train_index],\"Class\":y[train_index]}\n",
        "    TrainVal_df = pd.DataFrame(TrainVal_dict)\n",
        "    Train_df, Valid_df = train_test_split(TrainVal_df, test_size=0.30, stratify = TrainVal_df['Class'].values, random_state=42)\n",
        "    Train_df = Train_df.reset_index(drop=True)\n",
        "    Valid_df = Valid_df.reset_index(drop=True)\n",
        "    Train_df = augmentasiTrain(Train_df)\n",
        "\n",
        "    # Make Test DataFrame\n",
        "    Test_dict = {\"Id\": X[test_index],\"Class\":y[test_index]}\n",
        "    Test_df = pd.DataFrame(Test_dict)\n",
        "    Test_df = Test_df.reset_index(drop=True)\n",
        "\n",
        "    # Prepare the image\n",
        "    Train_generator = datagen.flow_from_dataframe(\n",
        "      Train_df, \n",
        "      \"/content/gdrive/My Drive/Code TA/Data/Spectogram Librosa\", \n",
        "      x_col='Id',\n",
        "      y_col='Class',\n",
        "      target_size=IMAGE_SIZE,\n",
        "      class_mode=\"categorical\",\n",
        "      batch_size=batch_size\n",
        "    )\n",
        "    Valid_generator = datagen.flow_from_dataframe(\n",
        "      Valid_df, \n",
        "      \"/content/gdrive/My Drive/Code TA/Data/Spectogram Librosa\", \n",
        "      x_col='Id',\n",
        "      y_col='Class',\n",
        "      target_size=IMAGE_SIZE,\n",
        "      class_mode=\"categorical\",\n",
        "      batch_size=batch_size\n",
        "    )\n",
        "    Test_generator = datagen.flow_from_dataframe(\n",
        "      Test_df, \n",
        "      \"/content/gdrive/My Drive/Code TA/Data/Spectogram Librosa\", \n",
        "      x_col='Id',\n",
        "      y_col='Class',\n",
        "      target_size=IMAGE_SIZE,\n",
        "      class_mode=\"categorical\",\n",
        "      batch_size=1\n",
        "    )\n",
        "\n",
        "    # Callbacks\n",
        "    name_weights = \"final_model_fold\" + str(i) + \"_weights.h5\"\n",
        "    callbacks = get_callbacks(name_weights=name_weights, patience_lr=2)\n",
        "\n",
        "    # Fitting\n",
        "    model = get_model()\n",
        "    history = model.fit(\n",
        "      Train_generator, \n",
        "      epochs=15,\n",
        "      validation_data=Valid_generator,\n",
        "      validation_steps=Valid_df.shape[0]//batch_size,\n",
        "      steps_per_epoch=Train_df.shape[0]//batch_size,\n",
        "      callbacks=callbacks\n",
        "    )\n",
        "\n",
        "    test_loss, test_acc = model.evaluate(Test_generator, verbose=2)\n",
        "\n",
        "    print(f'\\nTest accuracy: {test_acc} \\t Test loss: {test_loss}\\n\\n')"
      ],
      "execution_count": 0,
      "outputs": [
        {
          "output_type": "stream",
          "text": [
            "====================***   K-Fold 1   ***====================\n",
            "Found 4508 validated image filenames belonging to 4 classes.\n",
            "Found 483 validated image filenames belonging to 4 classes.\n",
            "Found 403 validated image filenames belonging to 4 classes.\n",
            "Epoch 1/15\n",
            "300/300 [==============================] - 41s 135ms/step - loss: 5.7711 - accuracy: 0.4144 - val_loss: 1.8882 - val_accuracy: 0.5292 - lr: 5.0000e-04\n",
            "Epoch 2/15\n",
            "300/300 [==============================] - 34s 114ms/step - loss: 1.4541 - accuracy: 0.4690 - val_loss: 1.2153 - val_accuracy: 0.5312 - lr: 5.0000e-04\n",
            "Epoch 3/15\n",
            "300/300 [==============================] - 32s 107ms/step - loss: 1.2790 - accuracy: 0.5101 - val_loss: 1.3250 - val_accuracy: 0.5146 - lr: 5.0000e-04\n",
            "Epoch 4/15\n",
            "300/300 [==============================] - ETA: 0s - loss: 1.2311 - accuracy: 0.5175\n",
            "Epoch 00004: ReduceLROnPlateau reducing learning rate to 0.0002500000118743628.\n",
            "300/300 [==============================] - 33s 109ms/step - loss: 1.2311 - accuracy: 0.5175 - val_loss: 1.2030 - val_accuracy: 0.5292 - lr: 5.0000e-04\n",
            "Epoch 5/15\n",
            "300/300 [==============================] - 32s 107ms/step - loss: 1.1710 - accuracy: 0.5253 - val_loss: 1.2042 - val_accuracy: 0.5229 - lr: 2.5000e-04\n",
            "Epoch 6/15\n",
            "300/300 [==============================] - ETA: 0s - loss: 1.1792 - accuracy: 0.5264\n",
            "Epoch 00006: ReduceLROnPlateau reducing learning rate to 0.0001250000059371814.\n",
            "300/300 [==============================] - 33s 110ms/step - loss: 1.1792 - accuracy: 0.5264 - val_loss: 1.1410 - val_accuracy: 0.5292 - lr: 2.5000e-04\n",
            "Epoch 7/15\n",
            "300/300 [==============================] - 34s 112ms/step - loss: 1.1297 - accuracy: 0.5277 - val_loss: 1.1309 - val_accuracy: 0.5292 - lr: 1.2500e-04\n",
            "Epoch 8/15\n",
            "300/300 [==============================] - ETA: 0s - loss: 1.1236 - accuracy: 0.5257\n",
            "Epoch 00008: ReduceLROnPlateau reducing learning rate to 6.25000029685907e-05.\n",
            "300/300 [==============================] - 33s 111ms/step - loss: 1.1236 - accuracy: 0.5257 - val_loss: 1.0803 - val_accuracy: 0.5271 - lr: 1.2500e-04\n",
            "Epoch 9/15\n",
            "300/300 [==============================] - 34s 113ms/step - loss: 1.0830 - accuracy: 0.5400 - val_loss: 1.0373 - val_accuracy: 0.5604 - lr: 6.2500e-05\n",
            "Epoch 10/15\n",
            "300/300 [==============================] - 34s 112ms/step - loss: 1.0546 - accuracy: 0.5560 - val_loss: 0.9725 - val_accuracy: 0.6083 - lr: 6.2500e-05\n",
            "Epoch 11/15\n",
            "300/300 [==============================] - 32s 107ms/step - loss: 1.0306 - accuracy: 0.5729 - val_loss: 0.9738 - val_accuracy: 0.6187 - lr: 6.2500e-05\n",
            "Epoch 12/15\n",
            "300/300 [==============================] - 33s 110ms/step - loss: 1.0294 - accuracy: 0.5760 - val_loss: 0.9648 - val_accuracy: 0.6333 - lr: 6.2500e-05\n",
            "Epoch 13/15\n",
            "300/300 [==============================] - 33s 111ms/step - loss: 0.9887 - accuracy: 0.5887 - val_loss: 0.9435 - val_accuracy: 0.6521 - lr: 6.2500e-05\n",
            "Epoch 14/15\n",
            "300/300 [==============================] - 33s 111ms/step - loss: 0.9758 - accuracy: 0.5980 - val_loss: 0.9072 - val_accuracy: 0.6604 - lr: 6.2500e-05\n",
            "Epoch 15/15\n",
            "300/300 [==============================] - 34s 112ms/step - loss: 0.9450 - accuracy: 0.6181 - val_loss: 0.8858 - val_accuracy: 0.6625 - lr: 6.2500e-05\n",
            "403/403 - 3s - loss: 0.9438 - accuracy: 0.6799\n",
            "\n",
            "Test accuracy: 0.6799007654190063 \t Test loss: 0.9438213109970093\n",
            "\n",
            "\n",
            "====================***   K-Fold 2   ***====================\n",
            "Found 4508 validated image filenames belonging to 4 classes.\n",
            "Found 483 validated image filenames belonging to 4 classes.\n",
            "Found 403 validated image filenames belonging to 4 classes.\n",
            "Epoch 1/15\n",
            "300/300 [==============================] - 41s 135ms/step - loss: 5.7464 - accuracy: 0.4149 - val_loss: 1.4528 - val_accuracy: 0.2937 - lr: 5.0000e-04\n",
            "Epoch 2/15\n",
            "300/300 [==============================] - 33s 111ms/step - loss: 1.5409 - accuracy: 0.4594 - val_loss: 1.1116 - val_accuracy: 0.5021 - lr: 5.0000e-04\n",
            "Epoch 3/15\n",
            "300/300 [==============================] - 32s 107ms/step - loss: 1.6945 - accuracy: 0.4928 - val_loss: 1.1662 - val_accuracy: 0.5292 - lr: 5.0000e-04\n",
            "Epoch 4/15\n",
            "300/300 [==============================] - 32s 106ms/step - loss: 1.2846 - accuracy: 0.5075 - val_loss: 31.3006 - val_accuracy: 0.3167 - lr: 5.0000e-04\n",
            "Epoch 5/15\n",
            "300/300 [==============================] - ETA: 0s - loss: 1.3052 - accuracy: 0.5130\n",
            "Epoch 00005: ReduceLROnPlateau reducing learning rate to 0.0002500000118743628.\n",
            "300/300 [==============================] - 31s 105ms/step - loss: 1.3052 - accuracy: 0.5130 - val_loss: 1.2896 - val_accuracy: 0.5104 - lr: 5.0000e-04\n",
            "Epoch 6/15\n",
            "300/300 [==============================] - 31s 105ms/step - loss: 1.1755 - accuracy: 0.5228 - val_loss: 1.1370 - val_accuracy: 0.5292 - lr: 2.5000e-04\n",
            "Epoch 7/15\n",
            "300/300 [==============================] - ETA: 0s - loss: 1.1589 - accuracy: 0.5324\n",
            "Epoch 00007: ReduceLROnPlateau reducing learning rate to 0.0001250000059371814.\n",
            "300/300 [==============================] - 31s 105ms/step - loss: 1.1589 - accuracy: 0.5324 - val_loss: 1.1278 - val_accuracy: 0.5292 - lr: 2.5000e-04\n",
            "Epoch 8/15\n",
            "300/300 [==============================] - 33s 109ms/step - loss: 1.1129 - accuracy: 0.5602 - val_loss: 1.0745 - val_accuracy: 0.5750 - lr: 1.2500e-04\n",
            "Epoch 9/15\n",
            "300/300 [==============================] - 33s 111ms/step - loss: 1.0895 - accuracy: 0.5731 - val_loss: 0.9683 - val_accuracy: 0.6250 - lr: 1.2500e-04\n",
            "Epoch 10/15\n",
            "300/300 [==============================] - 33s 111ms/step - loss: 1.0831 - accuracy: 0.5727 - val_loss: 0.9568 - val_accuracy: 0.6083 - lr: 1.2500e-04\n",
            "Epoch 11/15\n",
            "300/300 [==============================] - ETA: 0s - loss: 1.0429 - accuracy: 0.5934\n",
            "Epoch 00011: ReduceLROnPlateau reducing learning rate to 6.25000029685907e-05.\n",
            "300/300 [==============================] - 32s 107ms/step - loss: 1.0429 - accuracy: 0.5934 - val_loss: 0.9908 - val_accuracy: 0.6167 - lr: 1.2500e-04\n",
            "Epoch 12/15\n",
            "300/300 [==============================] - 33s 109ms/step - loss: 0.9861 - accuracy: 0.6058 - val_loss: 0.8922 - val_accuracy: 0.6625 - lr: 6.2500e-05\n",
            "Epoch 13/15\n",
            "300/300 [==============================] - 33s 111ms/step - loss: 0.9687 - accuracy: 0.6167 - val_loss: 0.8557 - val_accuracy: 0.6646 - lr: 6.2500e-05\n",
            "Epoch 14/15\n",
            "300/300 [==============================] - 33s 112ms/step - loss: 0.9468 - accuracy: 0.6216 - val_loss: 0.8456 - val_accuracy: 0.6771 - lr: 6.2500e-05\n",
            "Epoch 15/15\n",
            "300/300 [==============================] - 32s 107ms/step - loss: 0.9354 - accuracy: 0.6187 - val_loss: 0.8565 - val_accuracy: 0.6687 - lr: 6.2500e-05\n",
            "403/403 - 3s - loss: 0.8950 - accuracy: 0.6526\n",
            "\n",
            "Test accuracy: 0.6526054739952087 \t Test loss: 0.8949810862541199\n",
            "\n",
            "\n",
            "====================***   K-Fold 3   ***====================\n",
            "Found 4508 validated image filenames belonging to 4 classes.\n",
            "Found 483 validated image filenames belonging to 4 classes.\n",
            "Found 403 validated image filenames belonging to 4 classes.\n",
            "Epoch 1/15\n",
            "300/300 [==============================] - 33s 110ms/step - loss: 7.6353 - accuracy: 0.4220 - val_loss: 1.5012 - val_accuracy: 0.5292 - lr: 5.0000e-04\n",
            "Epoch 2/15\n",
            "300/300 [==============================] - 34s 112ms/step - loss: 1.4998 - accuracy: 0.4676 - val_loss: 1.4485 - val_accuracy: 0.2896 - lr: 5.0000e-04\n",
            "Epoch 3/15\n",
            "300/300 [==============================] - ETA: 0s - loss: 1.2786 - accuracy: 0.5019\n",
            "Epoch 00003: ReduceLROnPlateau reducing learning rate to 0.0002500000118743628.\n",
            "300/300 [==============================] - 33s 112ms/step - loss: 1.2786 - accuracy: 0.5019 - val_loss: 1.2255 - val_accuracy: 0.5292 - lr: 5.0000e-04\n",
            "Epoch 4/15\n",
            "300/300 [==============================] - 34s 112ms/step - loss: 1.1936 - accuracy: 0.5215 - val_loss: 1.1403 - val_accuracy: 0.5250 - lr: 2.5000e-04\n",
            "Epoch 5/15\n",
            "300/300 [==============================] - ETA: 0s - loss: 1.1666 - accuracy: 0.5230\n",
            "Epoch 00005: ReduceLROnPlateau reducing learning rate to 0.0001250000059371814.\n",
            "300/300 [==============================] - 34s 112ms/step - loss: 1.1666 - accuracy: 0.5230 - val_loss: 1.1359 - val_accuracy: 0.5271 - lr: 2.5000e-04\n",
            "Epoch 6/15\n",
            "300/300 [==============================] - 34s 113ms/step - loss: 1.1036 - accuracy: 0.5335 - val_loss: 1.0528 - val_accuracy: 0.5792 - lr: 1.2500e-04\n",
            "Epoch 7/15\n",
            "300/300 [==============================] - 34s 112ms/step - loss: 1.0885 - accuracy: 0.5328 - val_loss: 1.0257 - val_accuracy: 0.5250 - lr: 1.2500e-04\n",
            "Epoch 8/15\n",
            "300/300 [==============================] - ETA: 0s - loss: 1.0719 - accuracy: 0.5566\n",
            "Epoch 00008: ReduceLROnPlateau reducing learning rate to 6.25000029685907e-05.\n",
            "300/300 [==============================] - 34s 113ms/step - loss: 1.0719 - accuracy: 0.5566 - val_loss: 1.0092 - val_accuracy: 0.5271 - lr: 1.2500e-04\n",
            "Epoch 9/15\n",
            "300/300 [==============================] - 33s 109ms/step - loss: 1.0102 - accuracy: 0.5716 - val_loss: 1.0327 - val_accuracy: 0.6250 - lr: 6.2500e-05\n",
            "Epoch 10/15\n",
            "300/300 [==============================] - 33s 110ms/step - loss: 1.0036 - accuracy: 0.6018 - val_loss: 0.9727 - val_accuracy: 0.6417 - lr: 6.2500e-05\n",
            "Epoch 11/15\n",
            "300/300 [==============================] - 34s 112ms/step - loss: 0.9818 - accuracy: 0.6016 - val_loss: 0.9351 - val_accuracy: 0.6417 - lr: 6.2500e-05\n",
            "Epoch 12/15\n",
            "300/300 [==============================] - 32s 108ms/step - loss: 0.9663 - accuracy: 0.6081 - val_loss: 0.9415 - val_accuracy: 0.6583 - lr: 6.2500e-05\n",
            "Epoch 13/15\n",
            "300/300 [==============================] - 33s 110ms/step - loss: 0.9363 - accuracy: 0.6236 - val_loss: 0.9251 - val_accuracy: 0.6562 - lr: 6.2500e-05\n",
            "Epoch 14/15\n",
            "300/300 [==============================] - 33s 111ms/step - loss: 0.9211 - accuracy: 0.6314 - val_loss: 0.8971 - val_accuracy: 0.6771 - lr: 6.2500e-05\n",
            "Epoch 15/15\n",
            "300/300 [==============================] - 32s 107ms/step - loss: 0.9059 - accuracy: 0.6417 - val_loss: 0.9262 - val_accuracy: 0.6625 - lr: 6.2500e-05\n",
            "403/403 - 3s - loss: 0.9267 - accuracy: 0.6625\n",
            "\n",
            "Test accuracy: 0.6625310182571411 \t Test loss: 0.9267401099205017\n",
            "\n",
            "\n",
            "====================***   K-Fold 4   ***====================\n",
            "Found 4508 validated image filenames belonging to 4 classes.\n",
            "Found 484 validated image filenames belonging to 4 classes.\n",
            "Found 402 validated image filenames belonging to 4 classes.\n",
            "Epoch 1/15\n",
            "300/300 [==============================] - 35s 116ms/step - loss: 6.5632 - accuracy: 0.4171 - val_loss: 1.2256 - val_accuracy: 0.5208 - lr: 5.0000e-04\n",
            "Epoch 2/15\n",
            "300/300 [==============================] - 34s 114ms/step - loss: 1.4541 - accuracy: 0.4618 - val_loss: 1.1943 - val_accuracy: 0.5271 - lr: 5.0000e-04\n",
            "Epoch 3/15\n",
            "300/300 [==============================] - 34s 113ms/step - loss: 1.3322 - accuracy: 0.4941 - val_loss: 1.1498 - val_accuracy: 0.5292 - lr: 5.0000e-04\n",
            "Epoch 4/15\n",
            "300/300 [==============================] - 34s 114ms/step - loss: 1.2952 - accuracy: 0.5057 - val_loss: 1.1394 - val_accuracy: 0.5292 - lr: 5.0000e-04\n",
            "Epoch 5/15\n",
            "300/300 [==============================] - ETA: 0s - loss: 1.2037 - accuracy: 0.5170\n",
            "Epoch 00005: ReduceLROnPlateau reducing learning rate to 0.0002500000118743628.\n",
            "300/300 [==============================] - 33s 109ms/step - loss: 1.2037 - accuracy: 0.5170 - val_loss: 1.1692 - val_accuracy: 0.5292 - lr: 5.0000e-04\n",
            "Epoch 6/15\n",
            "300/300 [==============================] - 34s 113ms/step - loss: 1.1663 - accuracy: 0.5257 - val_loss: 1.1210 - val_accuracy: 0.5292 - lr: 2.5000e-04\n",
            "Epoch 7/15\n",
            "300/300 [==============================] - 32s 108ms/step - loss: 1.1702 - accuracy: 0.5266 - val_loss: 1.1436 - val_accuracy: 0.5312 - lr: 2.5000e-04\n",
            "Epoch 8/15\n",
            "300/300 [==============================] - 33s 108ms/step - loss: 1.1431 - accuracy: 0.5230 - val_loss: 1.1266 - val_accuracy: 0.5271 - lr: 2.5000e-04\n",
            "Epoch 9/15\n",
            "300/300 [==============================] - 35s 116ms/step - loss: 1.1365 - accuracy: 0.5172 - val_loss: 1.0829 - val_accuracy: 0.5813 - lr: 2.5000e-04\n",
            "Epoch 10/15\n",
            "300/300 [==============================] - 34s 112ms/step - loss: 1.1158 - accuracy: 0.5299 - val_loss: 1.0338 - val_accuracy: 0.5312 - lr: 2.5000e-04\n",
            "Epoch 11/15\n",
            "300/300 [==============================] - 34s 114ms/step - loss: 1.0994 - accuracy: 0.5377 - val_loss: 1.0059 - val_accuracy: 0.6083 - lr: 2.5000e-04\n",
            "Epoch 12/15\n",
            "300/300 [==============================] - 33s 109ms/step - loss: 1.0827 - accuracy: 0.5702 - val_loss: 1.0295 - val_accuracy: 0.5750 - lr: 2.5000e-04\n",
            "Epoch 13/15\n",
            "300/300 [==============================] - ETA: 0s - loss: 1.0426 - accuracy: 0.5767\n",
            "Epoch 00013: ReduceLROnPlateau reducing learning rate to 0.0001250000059371814.\n",
            "300/300 [==============================] - 32s 107ms/step - loss: 1.0426 - accuracy: 0.5767 - val_loss: 1.0294 - val_accuracy: 0.6042 - lr: 2.5000e-04\n",
            "Epoch 14/15\n",
            "300/300 [==============================] - 33s 112ms/step - loss: 0.9697 - accuracy: 0.6138 - val_loss: 0.9433 - val_accuracy: 0.6333 - lr: 1.2500e-04\n",
            "Epoch 15/15\n",
            "300/300 [==============================] - 34s 113ms/step - loss: 0.9365 - accuracy: 0.6174 - val_loss: 0.9176 - val_accuracy: 0.6271 - lr: 1.2500e-04\n",
            "402/402 - 3s - loss: 0.9335 - accuracy: 0.6617\n",
            "\n",
            "Test accuracy: 0.6616915464401245 \t Test loss: 0.9335050582885742\n",
            "\n",
            "\n",
            "====================***   K-Fold 5   ***====================\n",
            "Found 4508 validated image filenames belonging to 4 classes.\n",
            "Found 484 validated image filenames belonging to 4 classes.\n",
            "Found 402 validated image filenames belonging to 4 classes.\n",
            "Epoch 1/15\n",
            "300/300 [==============================] - 36s 119ms/step - loss: 6.2823 - accuracy: 0.4318 - val_loss: 1.3512 - val_accuracy: 0.2229 - lr: 5.0000e-04\n",
            "Epoch 2/15\n",
            "300/300 [==============================] - 34s 113ms/step - loss: 1.3589 - accuracy: 0.4736 - val_loss: 1.1261 - val_accuracy: 0.5312 - lr: 5.0000e-04\n",
            "Epoch 3/15\n",
            "300/300 [==============================] - 32s 108ms/step - loss: 1.2255 - accuracy: 0.5139 - val_loss: 1.1362 - val_accuracy: 0.5312 - lr: 5.0000e-04\n",
            "Epoch 4/15\n",
            "300/300 [==============================] - 32s 106ms/step - loss: 1.2328 - accuracy: 0.5157 - val_loss: 1.1467 - val_accuracy: 0.5333 - lr: 5.0000e-04\n",
            "Epoch 5/15\n",
            "300/300 [==============================] - 32s 106ms/step - loss: 1.1850 - accuracy: 0.5188 - val_loss: 1.1789 - val_accuracy: 0.5271 - lr: 5.0000e-04\n",
            "Epoch 6/15\n",
            "300/300 [==============================] - ETA: 0s - loss: 1.2136 - accuracy: 0.5181\n",
            "Epoch 00006: ReduceLROnPlateau reducing learning rate to 0.0002500000118743628.\n",
            "300/300 [==============================] - 32s 106ms/step - loss: 1.2136 - accuracy: 0.5181 - val_loss: 5.9327 - val_accuracy: 0.4708 - lr: 5.0000e-04\n",
            "Epoch 7/15\n",
            "300/300 [==============================] - 32s 105ms/step - loss: 1.1615 - accuracy: 0.5293 - val_loss: 1.1400 - val_accuracy: 0.5312 - lr: 2.5000e-04\n",
            "Epoch 8/15\n",
            "300/300 [==============================] - 33s 110ms/step - loss: 1.1452 - accuracy: 0.5259 - val_loss: 1.0695 - val_accuracy: 0.5354 - lr: 2.5000e-04\n",
            "Epoch 9/15\n",
            "300/300 [==============================] - 32s 108ms/step - loss: 1.1165 - accuracy: 0.5306 - val_loss: 1.0792 - val_accuracy: 0.5312 - lr: 2.5000e-04\n",
            "Epoch 10/15\n",
            "300/300 [==============================] - 33s 110ms/step - loss: 1.0925 - accuracy: 0.5444 - val_loss: 0.9888 - val_accuracy: 0.6271 - lr: 2.5000e-04\n",
            "Epoch 11/15\n",
            "300/300 [==============================] - 32s 107ms/step - loss: 1.0547 - accuracy: 0.5687 - val_loss: 1.1991 - val_accuracy: 0.5375 - lr: 2.5000e-04\n",
            "Epoch 12/15\n",
            "300/300 [==============================] - ETA: 0s - loss: 1.0576 - accuracy: 0.5595\n",
            "Epoch 00012: ReduceLROnPlateau reducing learning rate to 0.0001250000059371814.\n",
            "300/300 [==============================] - 32s 105ms/step - loss: 1.0576 - accuracy: 0.5595 - val_loss: 1.0998 - val_accuracy: 0.5979 - lr: 2.5000e-04\n",
            "Epoch 13/15\n",
            "300/300 [==============================] - 33s 110ms/step - loss: 0.9772 - accuracy: 0.5992 - val_loss: 0.9407 - val_accuracy: 0.6479 - lr: 1.2500e-04\n",
            "Epoch 14/15\n",
            "300/300 [==============================] - 32s 108ms/step - loss: 0.9451 - accuracy: 0.6214 - val_loss: 0.9517 - val_accuracy: 0.6396 - lr: 1.2500e-04\n",
            "Epoch 15/15\n",
            "300/300 [==============================] - 33s 111ms/step - loss: 0.9213 - accuracy: 0.6332 - val_loss: 0.9339 - val_accuracy: 0.6604 - lr: 1.2500e-04\n",
            "402/402 - 3s - loss: 0.9452 - accuracy: 0.6468\n",
            "\n",
            "Test accuracy: 0.646766185760498 \t Test loss: 0.9451619386672974\n",
            "\n",
            "\n"
          ],
          "name": "stdout"
        }
      ]
    },
    {
      "cell_type": "code",
      "metadata": {
        "id": "EfYO0srgi6_3",
        "colab_type": "code",
        "outputId": "3c23537d-84f9-4ab4-ae34-3732ed651900",
        "colab": {
          "base_uri": "https://localhost:8080/",
          "height": 69
        }
      },
      "source": [
        "final_train_df, final_validate_df = train_test_split(train_validate_df, test_size=0.2, stratify = train_validate_df['Class'].values, random_state=42)\n",
        "\n",
        "print(f'Jumlah data train : {len(final_train_df)} ( {round(len(final_train_df)/len(df_for_model)*100,2)} % )')\n",
        "print(f'Jumlah data validasi : {len(final_validate_df)} ( {round(len(final_validate_df)/len(df_for_model)*100,2)} % )')\n",
        "print(f'Jumlah data test : {len(final_test_df)} ( {round(len(final_test_df)/len(df_for_model)*100,2)} % )')"
      ],
      "execution_count": 0,
      "outputs": [
        {
          "output_type": "stream",
          "text": [
            "Jumlah data train : 1610 ( 67.96 % )\n",
            "Jumlah data validasi : 403 ( 17.01 % )\n",
            "Jumlah data test : 356 ( 15.03 % )\n"
          ],
          "name": "stdout"
        }
      ]
    },
    {
      "cell_type": "code",
      "metadata": {
        "id": "aTvBLxaAEJ2d",
        "colab_type": "code",
        "outputId": "5913080c-7934-4340-e130-0f504456e203",
        "colab": {
          "base_uri": "https://localhost:8080/",
          "height": 35
        }
      },
      "source": [
        "final_train_df = final_train_df.reset_index(drop=True)\n",
        "final_validate_df = final_validate_df.reset_index(drop=True)\n",
        "final_train_df_augmented = augmentasiTrain(final_train_df)\n",
        "print(f'Jumlah data train setelah ditambah augmentasi : {len(final_train_df_augmented)}')"
      ],
      "execution_count": 0,
      "outputs": [
        {
          "output_type": "stream",
          "text": [
            "Jumlah data train setelah ditambah augmentasi : 6440\n"
          ],
          "name": "stdout"
        }
      ]
    },
    {
      "cell_type": "code",
      "metadata": {
        "id": "o5YDg50ZBR66",
        "colab_type": "code",
        "outputId": "f70e1198-f823-4f38-927c-1ea02c70faf7",
        "colab": {
          "base_uri": "https://localhost:8080/",
          "height": 52
        }
      },
      "source": [
        "final_train_generator = datagen.flow_from_dataframe(\n",
        "    final_train_df_augmented, \n",
        "    \"/content/gdrive/My Drive/Code TA/Data/Spectogram Librosa\", \n",
        "    x_col='Id',\n",
        "    y_col='Class',\n",
        "    target_size=IMAGE_SIZE,\n",
        "    class_mode=\"categorical\",\n",
        "    batch_size=batch_size\n",
        ")\n",
        "\n",
        "final_validate_generator = datagen.flow_from_dataframe(\n",
        "    final_validate_df, \n",
        "    \"/content/gdrive/My Drive/Code TA/Data/Spectogram Librosa\", \n",
        "    x_col='Id',\n",
        "    y_col='Class',\n",
        "    target_size=IMAGE_SIZE,\n",
        "    class_mode=\"categorical\",\n",
        "    batch_size=batch_size\n",
        ")"
      ],
      "execution_count": 0,
      "outputs": [
        {
          "output_type": "stream",
          "text": [
            "Found 6440 validated image filenames belonging to 4 classes.\n",
            "Found 403 validated image filenames belonging to 4 classes.\n"
          ],
          "name": "stdout"
        }
      ]
    },
    {
      "cell_type": "code",
      "metadata": {
        "id": "VkXladGEG4tY",
        "colab_type": "code",
        "outputId": "6bca8775-4cbb-4dc5-a099-e0c328b8d76c",
        "colab": {
          "base_uri": "https://localhost:8080/",
          "height": 1000
        }
      },
      "source": [
        "with tf.device('/device:GPU:0'): \n",
        "    # Callbacks\n",
        "    name_weights = \"CNN_with_CrossVal_final_model_weights.h5\"\n",
        "    callbacks = get_callbacks(name_weights=name_weights, patience_lr=2)\n",
        "\n",
        "    # Fitting\n",
        "    model = get_model()\n",
        "    history = model.fit(\n",
        "      final_train_generator, \n",
        "      epochs=45,\n",
        "      validation_data=final_validate_generator,\n",
        "      validation_steps=final_validate_df.shape[0]//batch_size,\n",
        "      steps_per_epoch=final_train_df_augmented.shape[0]//batch_size,\n",
        "      callbacks=callbacks\n",
        "    )"
      ],
      "execution_count": 0,
      "outputs": [
        {
          "output_type": "stream",
          "text": [
            "Epoch 1/45\n",
            "429/429 [==============================] - 46s 108ms/step - loss: 4.9646 - accuracy: 0.4384 - val_loss: 1.2129 - val_accuracy: 0.5231 - lr: 5.0000e-04\n",
            "Epoch 2/45\n",
            "429/429 [==============================] - 46s 108ms/step - loss: 1.2541 - accuracy: 0.4945 - val_loss: 1.1583 - val_accuracy: 0.5282 - lr: 5.0000e-04\n",
            "Epoch 3/45\n",
            "429/429 [==============================] - 46s 107ms/step - loss: 1.2207 - accuracy: 0.5156 - val_loss: 1.1072 - val_accuracy: 0.5308 - lr: 5.0000e-04\n",
            "Epoch 4/45\n",
            "429/429 [==============================] - 45s 104ms/step - loss: 1.2051 - accuracy: 0.5138 - val_loss: 1.1618 - val_accuracy: 0.5308 - lr: 5.0000e-04\n",
            "Epoch 5/45\n",
            "429/429 [==============================] - ETA: 0s - loss: 1.1975 - accuracy: 0.5163\n",
            "Epoch 00005: ReduceLROnPlateau reducing learning rate to 0.0002500000118743628.\n",
            "429/429 [==============================] - 44s 102ms/step - loss: 1.1975 - accuracy: 0.5163 - val_loss: 1.1506 - val_accuracy: 0.5256 - lr: 5.0000e-04\n",
            "Epoch 6/45\n",
            "429/429 [==============================] - 44s 102ms/step - loss: 1.1525 - accuracy: 0.5286 - val_loss: 1.1218 - val_accuracy: 0.5462 - lr: 2.5000e-04\n",
            "Epoch 7/45\n",
            "429/429 [==============================] - 46s 107ms/step - loss: 1.1089 - accuracy: 0.5323 - val_loss: 1.0929 - val_accuracy: 0.5744 - lr: 2.5000e-04\n",
            "Epoch 8/45\n",
            "429/429 [==============================] - 47s 109ms/step - loss: 1.0721 - accuracy: 0.5583 - val_loss: 1.0288 - val_accuracy: 0.5436 - lr: 2.5000e-04\n",
            "Epoch 9/45\n",
            "429/429 [==============================] - 46s 108ms/step - loss: 1.0438 - accuracy: 0.5841 - val_loss: 0.9907 - val_accuracy: 0.5846 - lr: 2.5000e-04\n",
            "Epoch 10/45\n",
            "429/429 [==============================] - 45s 104ms/step - loss: 1.0073 - accuracy: 0.5924 - val_loss: 1.0124 - val_accuracy: 0.5923 - lr: 2.5000e-04\n",
            "Epoch 11/45\n",
            "429/429 [==============================] - 45s 105ms/step - loss: 0.9659 - accuracy: 0.6171 - val_loss: 0.8857 - val_accuracy: 0.5897 - lr: 2.5000e-04\n",
            "Epoch 12/45\n",
            "429/429 [==============================] - 46s 106ms/step - loss: 0.9456 - accuracy: 0.6212 - val_loss: 0.8684 - val_accuracy: 0.6923 - lr: 2.5000e-04\n",
            "Epoch 13/45\n",
            "429/429 [==============================] - 46s 106ms/step - loss: 0.9016 - accuracy: 0.6440 - val_loss: 0.8516 - val_accuracy: 0.6692 - lr: 2.5000e-04\n",
            "Epoch 14/45\n",
            "429/429 [==============================] - ETA: 0s - loss: 0.8853 - accuracy: 0.6445\n",
            "Epoch 00014: ReduceLROnPlateau reducing learning rate to 0.0001250000059371814.\n",
            "429/429 [==============================] - 46s 107ms/step - loss: 0.8853 - accuracy: 0.6445 - val_loss: 0.8190 - val_accuracy: 0.6846 - lr: 2.5000e-04\n",
            "Epoch 15/45\n",
            "429/429 [==============================] - 46s 107ms/step - loss: 0.8190 - accuracy: 0.6685 - val_loss: 0.7886 - val_accuracy: 0.7026 - lr: 1.2500e-04\n",
            "Epoch 16/45\n",
            "429/429 [==============================] - 44s 103ms/step - loss: 0.7761 - accuracy: 0.6923 - val_loss: 0.8546 - val_accuracy: 0.6769 - lr: 1.2500e-04\n",
            "Epoch 17/45\n",
            "429/429 [==============================] - 45s 105ms/step - loss: 0.7452 - accuracy: 0.6926 - val_loss: 0.7857 - val_accuracy: 0.7077 - lr: 1.2500e-04\n",
            "Epoch 18/45\n",
            "429/429 [==============================] - 46s 108ms/step - loss: 0.7411 - accuracy: 0.6999 - val_loss: 0.7380 - val_accuracy: 0.7154 - lr: 1.2500e-04\n",
            "Epoch 19/45\n",
            "429/429 [==============================] - 45s 104ms/step - loss: 0.7125 - accuracy: 0.7116 - val_loss: 0.9016 - val_accuracy: 0.7026 - lr: 1.2500e-04\n",
            "Epoch 20/45\n",
            "429/429 [==============================] - ETA: 0s - loss: 0.6850 - accuracy: 0.7303\n",
            "Epoch 00020: ReduceLROnPlateau reducing learning rate to 6.25000029685907e-05.\n",
            "429/429 [==============================] - 44s 103ms/step - loss: 0.6850 - accuracy: 0.7303 - val_loss: 0.8777 - val_accuracy: 0.6949 - lr: 1.2500e-04\n",
            "Epoch 21/45\n",
            "429/429 [==============================] - 44s 102ms/step - loss: 0.6205 - accuracy: 0.7521 - val_loss: 0.8396 - val_accuracy: 0.7128 - lr: 6.2500e-05\n",
            "Epoch 22/45\n",
            "429/429 [==============================] - 44s 102ms/step - loss: 0.6051 - accuracy: 0.7586 - val_loss: 0.7855 - val_accuracy: 0.7256 - lr: 6.2500e-05\n",
            "Epoch 23/45\n",
            "429/429 [==============================] - 44s 103ms/step - loss: 0.5770 - accuracy: 0.7650 - val_loss: 0.8115 - val_accuracy: 0.7103 - lr: 6.2500e-05\n",
            "Epoch 24/45\n",
            "429/429 [==============================] - 44s 102ms/step - loss: 0.5582 - accuracy: 0.7732 - val_loss: 0.9358 - val_accuracy: 0.7385 - lr: 6.2500e-05\n",
            "Epoch 25/45\n",
            "429/429 [==============================] - 44s 103ms/step - loss: 0.5695 - accuracy: 0.7756 - val_loss: 0.8126 - val_accuracy: 0.7308 - lr: 6.2500e-05\n",
            "Epoch 26/45\n",
            "429/429 [==============================] - ETA: 0s - loss: 0.5290 - accuracy: 0.7879\n",
            "Epoch 00026: ReduceLROnPlateau reducing learning rate to 3.125000148429535e-05.\n",
            "429/429 [==============================] - 44s 102ms/step - loss: 0.5290 - accuracy: 0.7879 - val_loss: 0.8488 - val_accuracy: 0.7308 - lr: 6.2500e-05\n",
            "Epoch 27/45\n",
            "429/429 [==============================] - 44s 102ms/step - loss: 0.4878 - accuracy: 0.8044 - val_loss: 0.8682 - val_accuracy: 0.7462 - lr: 3.1250e-05\n",
            "Epoch 28/45\n",
            "429/429 [==============================] - 44s 103ms/step - loss: 0.4809 - accuracy: 0.8039 - val_loss: 0.7588 - val_accuracy: 0.7513 - lr: 3.1250e-05\n",
            "Epoch 29/45\n",
            "429/429 [==============================] - 44s 103ms/step - loss: 0.4659 - accuracy: 0.8140 - val_loss: 0.8793 - val_accuracy: 0.7462 - lr: 3.1250e-05\n",
            "Epoch 30/45\n",
            "429/429 [==============================] - ETA: 0s - loss: 0.4422 - accuracy: 0.8218\n",
            "Epoch 00030: ReduceLROnPlateau reducing learning rate to 1.5625000742147677e-05.\n",
            "429/429 [==============================] - 44s 102ms/step - loss: 0.4422 - accuracy: 0.8218 - val_loss: 0.9941 - val_accuracy: 0.7436 - lr: 3.1250e-05\n",
            "Epoch 31/45\n",
            "429/429 [==============================] - 44s 102ms/step - loss: 0.4276 - accuracy: 0.8325 - val_loss: 0.8063 - val_accuracy: 0.7641 - lr: 1.5625e-05\n",
            "Epoch 32/45\n",
            "429/429 [==============================] - 44s 103ms/step - loss: 0.4161 - accuracy: 0.8384 - val_loss: 0.9386 - val_accuracy: 0.7564 - lr: 1.5625e-05\n",
            "Epoch 33/45\n",
            "429/429 [==============================] - ETA: 0s - loss: 0.4027 - accuracy: 0.8431\n",
            "Epoch 00033: ReduceLROnPlateau reducing learning rate to 1e-05.\n",
            "429/429 [==============================] - 44s 103ms/step - loss: 0.4027 - accuracy: 0.8431 - val_loss: 0.8516 - val_accuracy: 0.7513 - lr: 1.5625e-05\n",
            "Epoch 34/45\n",
            "429/429 [==============================] - 44s 103ms/step - loss: 0.3951 - accuracy: 0.8481 - val_loss: 0.8875 - val_accuracy: 0.7487 - lr: 1.0000e-05\n",
            "Epoch 35/45\n",
            "429/429 [==============================] - 44s 102ms/step - loss: 0.3929 - accuracy: 0.8425 - val_loss: 0.9565 - val_accuracy: 0.7615 - lr: 1.0000e-05\n",
            "Epoch 36/45\n",
            "429/429 [==============================] - 44s 102ms/step - loss: 0.3769 - accuracy: 0.8503 - val_loss: 0.8956 - val_accuracy: 0.7692 - lr: 1.0000e-05\n",
            "Epoch 37/45\n",
            "429/429 [==============================] - 44s 102ms/step - loss: 0.3800 - accuracy: 0.8504 - val_loss: 0.9008 - val_accuracy: 0.7590 - lr: 1.0000e-05\n",
            "Epoch 38/45\n",
            "429/429 [==============================] - 44s 103ms/step - loss: 0.3845 - accuracy: 0.8523 - val_loss: 0.9161 - val_accuracy: 0.7641 - lr: 1.0000e-05\n",
            "Epoch 39/45\n",
            "429/429 [==============================] - 44s 103ms/step - loss: 0.3798 - accuracy: 0.8532 - val_loss: 1.0042 - val_accuracy: 0.7564 - lr: 1.0000e-05\n",
            "Epoch 40/45\n",
            "429/429 [==============================] - 44s 103ms/step - loss: 0.3643 - accuracy: 0.8613 - val_loss: 0.9650 - val_accuracy: 0.7744 - lr: 1.0000e-05\n",
            "Epoch 41/45\n",
            "429/429 [==============================] - 44s 102ms/step - loss: 0.3784 - accuracy: 0.8506 - val_loss: 0.9736 - val_accuracy: 0.7641 - lr: 1.0000e-05\n",
            "Epoch 42/45\n",
            "429/429 [==============================] - 44s 102ms/step - loss: 0.3735 - accuracy: 0.8535 - val_loss: 0.9879 - val_accuracy: 0.7641 - lr: 1.0000e-05\n",
            "Epoch 43/45\n",
            "429/429 [==============================] - 44s 103ms/step - loss: 0.3573 - accuracy: 0.8619 - val_loss: 0.9327 - val_accuracy: 0.7744 - lr: 1.0000e-05\n",
            "Epoch 44/45\n",
            "429/429 [==============================] - 44s 103ms/step - loss: 0.3528 - accuracy: 0.8624 - val_loss: 0.9900 - val_accuracy: 0.7590 - lr: 1.0000e-05\n",
            "Epoch 45/45\n",
            "429/429 [==============================] - 44s 103ms/step - loss: 0.3569 - accuracy: 0.8577 - val_loss: 1.0055 - val_accuracy: 0.7641 - lr: 1.0000e-05\n"
          ],
          "name": "stdout"
        }
      ]
    },
    {
      "cell_type": "code",
      "metadata": {
        "id": "f_-3nrIV8po-",
        "colab_type": "code",
        "outputId": "d8f51591-9e6a-42f1-fa3e-fb72739ee70f",
        "colab": {
          "base_uri": "https://localhost:8080/",
          "height": 745
        }
      },
      "source": [
        "model.summary()"
      ],
      "execution_count": 0,
      "outputs": [
        {
          "output_type": "stream",
          "text": [
            "Model: \"sequential_15\"\n",
            "_________________________________________________________________\n",
            "Layer (type)                 Output Shape              Param #   \n",
            "=================================================================\n",
            "conv2d_78 (Conv2D)           (None, 224, 224, 32)      896       \n",
            "_________________________________________________________________\n",
            "batch_normalization_78 (Batc (None, 224, 224, 32)      128       \n",
            "_________________________________________________________________\n",
            "max_pooling2d_62 (MaxPooling (None, 112, 112, 32)      0         \n",
            "_________________________________________________________________\n",
            "conv2d_79 (Conv2D)           (None, 112, 112, 64)      18496     \n",
            "_________________________________________________________________\n",
            "batch_normalization_79 (Batc (None, 112, 112, 64)      256       \n",
            "_________________________________________________________________\n",
            "max_pooling2d_63 (MaxPooling (None, 56, 56, 64)        0         \n",
            "_________________________________________________________________\n",
            "conv2d_80 (Conv2D)           (None, 56, 56, 128)       73856     \n",
            "_________________________________________________________________\n",
            "batch_normalization_80 (Batc (None, 56, 56, 128)       512       \n",
            "_________________________________________________________________\n",
            "max_pooling2d_64 (MaxPooling (None, 28, 28, 128)       0         \n",
            "_________________________________________________________________\n",
            "conv2d_81 (Conv2D)           (None, 28, 28, 256)       295168    \n",
            "_________________________________________________________________\n",
            "batch_normalization_81 (Batc (None, 28, 28, 256)       1024      \n",
            "_________________________________________________________________\n",
            "max_pooling2d_65 (MaxPooling (None, 14, 14, 256)       0         \n",
            "_________________________________________________________________\n",
            "flatten_15 (Flatten)         (None, 50176)             0         \n",
            "_________________________________________________________________\n",
            "dense_45 (Dense)             (None, 512)               25690624  \n",
            "_________________________________________________________________\n",
            "dropout_15 (Dropout)         (None, 512)               0         \n",
            "_________________________________________________________________\n",
            "dense_46 (Dense)             (None, 256)               131328    \n",
            "_________________________________________________________________\n",
            "dense_47 (Dense)             (None, 4)                 1028      \n",
            "=================================================================\n",
            "Total params: 26,213,316\n",
            "Trainable params: 26,212,356\n",
            "Non-trainable params: 960\n",
            "_________________________________________________________________\n"
          ],
          "name": "stdout"
        }
      ]
    },
    {
      "cell_type": "code",
      "metadata": {
        "id": "Fv8-pQXbRmHK",
        "colab_type": "code",
        "outputId": "5817dd3a-42a9-4812-8abd-fb50c3248db4",
        "colab": {
          "base_uri": "https://localhost:8080/",
          "height": 104
        }
      },
      "source": [
        "test_loss, test_acc = model.evaluate(final_test_generator, verbose=2)\n",
        "\n",
        "print(f'\\nTest accuracy: {test_acc} \\t Test loss: {test_loss}\\n\\n')"
      ],
      "execution_count": 0,
      "outputs": [
        {
          "output_type": "stream",
          "text": [
            "356/356 - 193s - loss: 0.7493 - accuracy: 0.7753\n",
            "\n",
            "Test accuracy: 0.7752808928489685 \t Test loss: 0.7492857575416565\n",
            "\n",
            "\n"
          ],
          "name": "stdout"
        }
      ]
    },
    {
      "cell_type": "code",
      "metadata": {
        "id": "cRuH1nw1Muz7",
        "colab_type": "code",
        "colab": {}
      },
      "source": [
        "# Save Model\n",
        "# Save the weights\n",
        "model.save_weights('HASIL_TA_model_weights.h5')\n",
        "\n",
        "# Save the model architecture\n",
        "with open('HASIL_TA_model_architecture.json', 'w') as f:\n",
        "    f.write(model.to_json())"
      ],
      "execution_count": 0,
      "outputs": []
    },
    {
      "cell_type": "code",
      "metadata": {
        "id": "eq9zJ5lUW0ZA",
        "colab_type": "code",
        "outputId": "f72cbf57-2771-4866-b757-e79354531adb",
        "colab": {
          "base_uri": "https://localhost:8080/",
          "height": 592
        }
      },
      "source": [
        "#Virtualize Training\n",
        "\n",
        "fig, ax = plt.subplots(2,1)\n",
        "plt.gcf().set_size_inches(15, 10)\n",
        "ax[0].plot(history.history['loss'], color='b', label=\"Training loss\")\n",
        "ax[0].plot(history.history['val_loss'], color='r', label=\"validation loss\",axes =ax[0])\n",
        "legend = ax[0].legend(loc='best', shadow=True)\n",
        "\n",
        "ax[1].plot(history.history['accuracy'], color='b', label=\"Training accuracy\")\n",
        "ax[1].plot(history.history['val_accuracy'], color='r',label=\"Validation accuracy\")\n",
        "legend = ax[1].legend(loc='best', shadow=True)"
      ],
      "execution_count": 0,
      "outputs": [
        {
          "output_type": "display_data",
          "data": {
            "image/png": "[encoded data removed]",
            "text/plain": [
              "<Figure size 1080x720 with 2 Axes>"
            ]
          },
          "metadata": {
            "tags": [],
            "needs_background": "light"
          }
        }
      ]
    },
    {
      "cell_type": "code",
      "metadata": {
        "id": "dxUxhADeBX3i",
        "colab_type": "code",
        "colab": {}
      },
      "source": [
        ""
      ],
      "execution_count": 0,
      "outputs": []
    }
  ]
}