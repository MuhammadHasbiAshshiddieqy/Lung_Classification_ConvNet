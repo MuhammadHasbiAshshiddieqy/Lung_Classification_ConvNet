{
  "nbformat": 4,
  "nbformat_minor": 0,
  "metadata": {
    "colab": {
      "name": "GITHUB_of_TA_FIX_BANGET_CrossVal_ConvNet_GPU.ipynb",
      "provenance": [],
      "collapsed_sections": [],
      "authorship_tag": "ABX9TyNQnZ+FwSsT4kbXx4Bbpzis"
    },
    "kernelspec": {
      "name": "python3",
      "display_name": "Python 3"
    },
    "accelerator": "GPU"
  },
  "cells": [
    {
      "cell_type": "code",
      "metadata": {
        "id": "At2hgfbjJPm8",
        "colab_type": "code",
        "colab": {
          "base_uri": "https://localhost:8080/",
          "height": 124
        },
        "outputId": "a78b26de-ff3b-4f24-8403-26ec96ed79b9"
      },
      "source": [
        "from google.colab import drive\n",
        "drive.mount('/content/gdrive')"
      ],
      "execution_count": null,
      "outputs": [
        {
          "output_type": "stream",
          "text": [
            "Go to this URL in a browser: https://accounts.google.com/o/oauth2/auth?client_id=947318989803-6bn6qk8qdgf4n4g3pfee6491hc0brc4i.apps.googleusercontent.com&redirect_uri=urn%3aietf%3awg%3aoauth%3a2.0%3aoob&response_type=code&scope=email%20https%3a%2f%2fwww.googleapis.com%2fauth%2fdocs.test%20https%3a%2f%2fwww.googleapis.com%2fauth%2fdrive%20https%3a%2f%2fwww.googleapis.com%2fauth%2fdrive.photos.readonly%20https%3a%2f%2fwww.googleapis.com%2fauth%2fpeopleapi.readonly\n",
            "\n",
            "Enter your authorization code:\n",
            "··········\n",
            "Mounted at /content/gdrive\n"
          ],
          "name": "stdout"
        }
      ]
    },
    {
      "cell_type": "code",
      "metadata": {
        "id": "BmIwNKFA4TaS",
        "colab_type": "code",
        "colab": {
          "base_uri": "https://localhost:8080/",
          "height": 35
        },
        "outputId": "1ddadf48-f447-40b1-fd06-82c6ca4d729c"
      },
      "source": [
        "import tensorflow as tf\n",
        "print(tf.test.gpu_device_name())"
      ],
      "execution_count": null,
      "outputs": [
        {
          "output_type": "stream",
          "text": [
            "/device:GPU:0\n"
          ],
          "name": "stdout"
        }
      ]
    },
    {
      "cell_type": "code",
      "metadata": {
        "id": "TnQ2DOyI5oNr",
        "colab_type": "code",
        "colab": {
          "base_uri": "https://localhost:8080/",
          "height": 35
        },
        "outputId": "026eeb12-5f2b-4507-d13f-9c5074842fd2"
      },
      "source": [
        "import os\n",
        "os.chdir('/content/gdrive/My Drive/Code TA/Data/Spectogram Librosa')\n",
        "os.getcwd()"
      ],
      "execution_count": null,
      "outputs": [
        {
          "output_type": "execute_result",
          "data": {
            "text/plain": [
              "'/content/gdrive/My Drive/Code TA/Data/Spectogram Librosa'"
            ]
          },
          "metadata": {
            "tags": []
          },
          "execution_count": 3
        }
      ]
    },
    {
      "cell_type": "code",
      "metadata": {
        "id": "K-2ddW5b6Q8f",
        "colab_type": "code",
        "colab": {
          "base_uri": "https://localhost:8080/",
          "height": 89
        },
        "outputId": "c35f61c0-3459-4d83-98f7-9b15e3509334"
      },
      "source": [
        "# Import libraries\n",
        "from __future__ import print_function, division\n",
        "\n",
        "import numpy as np\n",
        "import random\n",
        "import os\n",
        "import glob\n",
        "import cv2\n",
        "import datetime\n",
        "import pandas as pd\n",
        "import time\n",
        "import h5py\n",
        "import csv\n",
        "\n",
        "from sklearn.metrics import log_loss, confusion_matrix, classification_report\n",
        "from sklearn.utils import shuffle\n",
        "from sklearn import model_selection\n",
        "from sklearn.model_selection import train_test_split, StratifiedKFold\n",
        "from PIL import Image, ImageChops, ImageOps\n",
        "\n",
        "import matplotlib.pyplot as plt\n",
        "import seaborn as sns\n",
        "\n",
        "from tensorflow.keras.models import load_model\n",
        "from tensorflow.keras.callbacks import EarlyStopping, ModelCheckpoint, Callback, ReduceLROnPlateau\n",
        "from tensorflow.keras.optimizers import RMSprop\n",
        "from tensorflow.keras import backend as K\n",
        "from keras.utils import np_utils\n",
        "from tensorflow.keras.preprocessing.image import ImageDataGenerator, load_img, img_to_array\n",
        "from tensorflow.keras import optimizers\n",
        "from tensorflow.keras.models import Sequential, model_from_json\n",
        "from tensorflow.keras.layers import Conv2D, MaxPooling2D, ZeroPadding2D, Activation, Dropout, Flatten, Dense, BatchNormalization\n",
        "\n",
        "from keras.preprocessing.image import ImageDataGenerator"
      ],
      "execution_count": null,
      "outputs": [
        {
          "output_type": "stream",
          "text": [
            "/usr/local/lib/python3.6/dist-packages/statsmodels/tools/_testing.py:19: FutureWarning: pandas.util.testing is deprecated. Use the functions in the public API at pandas.testing instead.\n",
            "  import pandas.util.testing as tm\n",
            "Using TensorFlow backend.\n"
          ],
          "name": "stderr"
        }
      ]
    },
    {
      "cell_type": "code",
      "metadata": {
        "id": "9fQ4uJRK6yPM",
        "colab_type": "code",
        "colab": {
          "base_uri": "https://localhost:8080/",
          "height": 202
        },
        "outputId": "95473041-94a2-4ced-ac74-a476410ccb1d"
      },
      "source": [
        "# Get csv file\n",
        "df = pd.read_csv('/content/gdrive/My Drive/Code TA/Data/Preprocessed Data/LabelEncoded.csv')\n",
        "df.head()"
      ],
      "execution_count": null,
      "outputs": [
        {
          "output_type": "execute_result",
          "data": {
            "text/html": [
              "<div>\n",
              "<style scoped>\n",
              "    .dataframe tbody tr th:only-of-type {\n",
              "        vertical-align: middle;\n",
              "    }\n",
              "\n",
              "    .dataframe tbody tr th {\n",
              "        vertical-align: top;\n",
              "    }\n",
              "\n",
              "    .dataframe thead th {\n",
              "        text-align: right;\n",
              "    }\n",
              "</style>\n",
              "<table border=\"1\" class=\"dataframe\">\n",
              "  <thead>\n",
              "    <tr style=\"text-align: right;\">\n",
              "      <th></th>\n",
              "      <th>Id</th>\n",
              "      <th>File</th>\n",
              "      <th>StartRC</th>\n",
              "      <th>EndRC</th>\n",
              "      <th>Status</th>\n",
              "      <th>Class</th>\n",
              "    </tr>\n",
              "  </thead>\n",
              "  <tbody>\n",
              "    <tr>\n",
              "      <th>0</th>\n",
              "      <td>0</td>\n",
              "      <td>101</td>\n",
              "      <td>0.036</td>\n",
              "      <td>1.907</td>\n",
              "      <td>1</td>\n",
              "      <td>0</td>\n",
              "    </tr>\n",
              "    <tr>\n",
              "      <th>1</th>\n",
              "      <td>1</td>\n",
              "      <td>101</td>\n",
              "      <td>1.907</td>\n",
              "      <td>4.521</td>\n",
              "      <td>0</td>\n",
              "      <td>0</td>\n",
              "    </tr>\n",
              "    <tr>\n",
              "      <th>2</th>\n",
              "      <td>2</td>\n",
              "      <td>101</td>\n",
              "      <td>4.521</td>\n",
              "      <td>7.193</td>\n",
              "      <td>1</td>\n",
              "      <td>0</td>\n",
              "    </tr>\n",
              "    <tr>\n",
              "      <th>3</th>\n",
              "      <td>3</td>\n",
              "      <td>101</td>\n",
              "      <td>7.193</td>\n",
              "      <td>9.750</td>\n",
              "      <td>0</td>\n",
              "      <td>0</td>\n",
              "    </tr>\n",
              "    <tr>\n",
              "      <th>4</th>\n",
              "      <td>4</td>\n",
              "      <td>101</td>\n",
              "      <td>9.750</td>\n",
              "      <td>12.407</td>\n",
              "      <td>1</td>\n",
              "      <td>0</td>\n",
              "    </tr>\n",
              "  </tbody>\n",
              "</table>\n",
              "</div>"
            ],
            "text/plain": [
              "   Id  File  StartRC   EndRC  Status  Class\n",
              "0   0   101    0.036   1.907       1      0\n",
              "1   1   101    1.907   4.521       0      0\n",
              "2   2   101    4.521   7.193       1      0\n",
              "3   3   101    7.193   9.750       0      0\n",
              "4   4   101    9.750  12.407       1      0"
            ]
          },
          "metadata": {
            "tags": []
          },
          "execution_count": 5
        }
      ]
    },
    {
      "cell_type": "code",
      "metadata": {
        "id": "esdXlbWeDvq2",
        "colab_type": "code",
        "colab": {
          "base_uri": "https://localhost:8080/",
          "height": 202
        },
        "outputId": "d117f315-e3f4-42ee-b5f3-f18892d2e17a"
      },
      "source": [
        "def append_ext(id):\n",
        "    return id+\".png\"\n",
        "\n",
        "df_for_model = df[[\"Id\",\"Class\"]].astype(\"str\")\n",
        "df_for_model[\"Id\"]=df_for_model[\"Id\"].apply(append_ext)\n",
        "df_for_model.head()"
      ],
      "execution_count": null,
      "outputs": [
        {
          "output_type": "execute_result",
          "data": {
            "text/html": [
              "<div>\n",
              "<style scoped>\n",
              "    .dataframe tbody tr th:only-of-type {\n",
              "        vertical-align: middle;\n",
              "    }\n",
              "\n",
              "    .dataframe tbody tr th {\n",
              "        vertical-align: top;\n",
              "    }\n",
              "\n",
              "    .dataframe thead th {\n",
              "        text-align: right;\n",
              "    }\n",
              "</style>\n",
              "<table border=\"1\" class=\"dataframe\">\n",
              "  <thead>\n",
              "    <tr style=\"text-align: right;\">\n",
              "      <th></th>\n",
              "      <th>Id</th>\n",
              "      <th>Class</th>\n",
              "    </tr>\n",
              "  </thead>\n",
              "  <tbody>\n",
              "    <tr>\n",
              "      <th>0</th>\n",
              "      <td>0.png</td>\n",
              "      <td>0</td>\n",
              "    </tr>\n",
              "    <tr>\n",
              "      <th>1</th>\n",
              "      <td>1.png</td>\n",
              "      <td>0</td>\n",
              "    </tr>\n",
              "    <tr>\n",
              "      <th>2</th>\n",
              "      <td>2.png</td>\n",
              "      <td>0</td>\n",
              "    </tr>\n",
              "    <tr>\n",
              "      <th>3</th>\n",
              "      <td>3.png</td>\n",
              "      <td>0</td>\n",
              "    </tr>\n",
              "    <tr>\n",
              "      <th>4</th>\n",
              "      <td>4.png</td>\n",
              "      <td>0</td>\n",
              "    </tr>\n",
              "  </tbody>\n",
              "</table>\n",
              "</div>"
            ],
            "text/plain": [
              "      Id Class\n",
              "0  0.png     0\n",
              "1  1.png     0\n",
              "2  2.png     0\n",
              "3  3.png     0\n",
              "4  4.png     0"
            ]
          },
          "metadata": {
            "tags": []
          },
          "execution_count": 6
        }
      ]
    },
    {
      "cell_type": "code",
      "metadata": {
        "id": "f0jqUyrWEsGj",
        "colab_type": "code",
        "colab": {
          "base_uri": "https://localhost:8080/",
          "height": 279
        },
        "outputId": "29a78e71-29a1-49aa-ffbf-c6bfce35e8ac"
      },
      "source": [
        "df_for_model['Class'].value_counts().plot.bar()"
      ],
      "execution_count": null,
      "outputs": [
        {
          "output_type": "execute_result",
          "data": {
            "text/plain": [
              "<matplotlib.axes._subplots.AxesSubplot at 0x7fc06cdb5160>"
            ]
          },
          "metadata": {
            "tags": []
          },
          "execution_count": 7
        },
        {
          "output_type": "display_data",
          "data": {
            "image/png": "[encoded data removed]",
            "text/plain": [
              "<Figure size 432x288 with 1 Axes>"
            ]
          },
          "metadata": {
            "tags": [],
            "needs_background": "light"
          }
        }
      ]
    },
    {
      "cell_type": "code",
      "metadata": {
        "id": "U0GhUcJ2N0R0",
        "colab_type": "code",
        "colab": {
          "base_uri": "https://localhost:8080/",
          "height": 87
        },
        "outputId": "48d32c28-d476-47a9-aeb3-3b2cf413a9e1"
      },
      "source": [
        "total = df_for_model.shape[0]\n",
        "print(f\"Kelas 0 = {df_for_model['Class'].value_counts()[0]} ({round((df_for_model['Class'].value_counts()[0]/total)*100,2)}%)\")\n",
        "print(f\"Kelas 1 = {df_for_model['Class'].value_counts()[1]} ({round((df_for_model['Class'].value_counts()[1]/total)*100,2)}%)\")\n",
        "print(f\"Kelas 2 = {df_for_model['Class'].value_counts()[2]} ({round((df_for_model['Class'].value_counts()[2]/total)*100,2)}%)\")\n",
        "print(f\"Kelas 3 = {df_for_model['Class'].value_counts()[3]} ({round((df_for_model['Class'].value_counts()[3]/total)*100,2)}%)\")"
      ],
      "execution_count": null,
      "outputs": [
        {
          "output_type": "stream",
          "text": [
            "Kelas 0 = 1251 (52.81%)\n",
            "Kelas 1 = 642 (27.1%)\n",
            "Kelas 2 = 304 (12.83%)\n",
            "Kelas 3 = 172 (7.26%)\n"
          ],
          "name": "stdout"
        }
      ]
    },
    {
      "cell_type": "code",
      "metadata": {
        "id": "KpnIYAE_FumM",
        "colab_type": "code",
        "colab": {}
      },
      "source": [
        "train_validate_df, final_test_df = train_test_split(df_for_model, test_size=0.15, stratify = df_for_model['Class'].values, random_state=42)\n",
        "\n",
        "train_validate_df = train_validate_df.reset_index(drop=True)\n",
        "final_test_df = final_test_df.reset_index(drop=True)\n",
        "\n",
        "train_validate_df.to_csv('/content/gdrive/My Drive/Code TA/Data/Preprocessed Data/trainval.csv', index=False)\n",
        "final_test_df.to_csv('/content/gdrive/My Drive/Code TA/Data/Preprocessed Data/test.csv', index=False)"
      ],
      "execution_count": null,
      "outputs": []
    },
    {
      "cell_type": "code",
      "metadata": {
        "id": "Up9l4E51vm8B",
        "colab_type": "code",
        "colab": {}
      },
      "source": [
        "def augmentasiTrain(training_df):\n",
        "  def append_psf(id):\n",
        "      return \"Pitch Shift FoHS/\"+id\n",
        "\n",
        "  def append_tsn(id):\n",
        "      return \"Time Stretch NoLim/\"+id\n",
        "  \n",
        "  def append_tss(id):\n",
        "      return \"Time Stretch SaLim/\"+id\n",
        "\n",
        "  df_PSF = training_df.copy()\n",
        "  df_PSF[\"Id\"]=df_PSF[\"Id\"].apply(append_psf)\n",
        "  df_TSN = training_df.copy()\n",
        "  df_TSN[\"Id\"]=df_TSN[\"Id\"].apply(append_tsn)\n",
        "  df_TSS = training_df.copy()\n",
        "  df_TSS[\"Id\"]=df_TSS[\"Id\"].apply(append_tss)\n",
        "  return pd.concat([training_df,df_PSF,df_TSN,df_TSS],ignore_index=True)"
      ],
      "execution_count": null,
      "outputs": []
    },
    {
      "cell_type": "code",
      "metadata": {
        "id": "b7OZ4f-lF-yK",
        "colab_type": "code",
        "colab": {}
      },
      "source": [
        "IMAGE_WIDTH=224\n",
        "IMAGE_HEIGHT=224\n",
        "IMAGE_SIZE=(IMAGE_WIDTH, IMAGE_HEIGHT)\n",
        "IMAGE_CHANNELS=3 # RGB color\n",
        "IMAGE_SIZE_INPUT = (IMAGE_WIDTH, IMAGE_HEIGHT, IMAGE_CHANNELS)\n",
        "\n",
        "batch_size=15"
      ],
      "execution_count": null,
      "outputs": []
    },
    {
      "cell_type": "code",
      "metadata": {
        "id": "p3BfTBkrGNLm",
        "colab_type": "code",
        "colab": {
          "base_uri": "https://localhost:8080/",
          "height": 35
        },
        "outputId": "dbc1468a-0757-4deb-8ff4-4c6d5c3c9134"
      },
      "source": [
        "datagen = ImageDataGenerator(rescale=1./255)\n",
        "\n",
        "final_test_generator = datagen.flow_from_dataframe(\n",
        "    final_test_df, \n",
        "    \"/content/gdrive/My Drive/Code TA/Data/Spectogram Librosa\", \n",
        "    x_col='Id',\n",
        "    y_col='Class',\n",
        "    target_size=IMAGE_SIZE,\n",
        "    class_mode=\"categorical\",\n",
        "    batch_size=1,\n",
        "    shuffle=False\n",
        ")"
      ],
      "execution_count": null,
      "outputs": [
        {
          "output_type": "stream",
          "text": [
            "Found 356 validated image filenames belonging to 4 classes.\n"
          ],
          "name": "stdout"
        }
      ]
    },
    {
      "cell_type": "code",
      "metadata": {
        "id": "2zkr7kZnVt74",
        "colab_type": "code",
        "colab": {}
      },
      "source": [
        "def get_callbacks(name_weights, patience_lr):\n",
        "    mcp_save = ModelCheckpoint(name_weights, save_best_only=True, monitor='val_loss', mode='min')\n",
        "    learning_rate_reduction = ReduceLROnPlateau(monitor='val_accuracy', \n",
        "                                            patience=patience_lr, \n",
        "                                            verbose=1, \n",
        "                                            factor=0.5, \n",
        "                                            min_lr=0.00001)\n",
        "    return [mcp_save, learning_rate_reduction]"
      ],
      "execution_count": null,
      "outputs": []
    },
    {
      "cell_type": "code",
      "metadata": {
        "id": "vsjLI89cZbpJ",
        "colab_type": "code",
        "colab": {}
      },
      "source": [
        "def get_model():\n",
        "  model = Sequential()\n",
        "\n",
        "  model.add(Conv2D(32, (3, 3), padding='same', activation='elu', input_shape=IMAGE_SIZE_INPUT))\n",
        "  model.add(BatchNormalization())\n",
        "  model.add(MaxPooling2D(pool_size=(2, 2)))\n",
        "\n",
        "  model.add(Conv2D(64, (3,3), padding='same', activation=\"elu\"))\n",
        "  model.add(BatchNormalization())\n",
        "  model.add(MaxPooling2D(pool_size=(2, 2)))\n",
        "\n",
        "  model.add(Conv2D(128, (3,3), padding='same', activation=\"elu\"))\n",
        "  model.add(BatchNormalization())\n",
        "  model.add(MaxPooling2D(pool_size=(2, 2)))\n",
        "\n",
        "  model.add(Conv2D(256, (3,3), padding='same', activation=\"elu\"))\n",
        "  model.add(BatchNormalization())\n",
        "  model.add(MaxPooling2D(pool_size=(2, 2)))\n",
        "\n",
        "  model.add(Flatten())\n",
        "  model.add(Dense(512, activation='elu')) \n",
        "  model.add(Dropout(0.5))\n",
        "  model.add(Dense(256, activation='elu'))\n",
        "  model.add(Dense(4, activation='softmax'))\n",
        "\n",
        "  model.compile(optimizer=tf.keras.optimizers.RMSprop(learning_rate=0.0005, decay=1e-6), loss='categorical_crossentropy', metrics=['accuracy'])\n",
        "\n",
        "  return model"
      ],
      "execution_count": null,
      "outputs": []
    },
    {
      "cell_type": "code",
      "metadata": {
        "id": "24O3RmRzMrnx",
        "colab_type": "code",
        "colab": {
          "base_uri": "https://localhost:8080/",
          "height": 1000
        },
        "outputId": "cda398e2-4233-416d-e74e-0db4e0813a3e"
      },
      "source": [
        "from sklearn.model_selection import cross_validate\n",
        "\n",
        "with tf.device('/device:GPU:0'):  \n",
        "\n",
        "  skf = StratifiedKFold(n_splits=10, shuffle=True, random_state=None)\n",
        "  X = train_validate_df[\"Id\"].values\n",
        "  y = train_validate_df[\"Class\"].values\n",
        "  i = 1\n",
        "  for train_index, test_index in skf.split(X, y):\n",
        "    print(f\"====================***   K-Fold {i}   ***====================\")\n",
        "    i+=1\n",
        "    # Make Train and Validation DataFrame \n",
        "    TrainVal_dict = {\"Id\": X[train_index],\"Class\":y[train_index]}\n",
        "    TrainVal_df = pd.DataFrame(TrainVal_dict)\n",
        "    Train_df, Valid_df = train_test_split(TrainVal_df, test_size=0.30, stratify = TrainVal_df['Class'].values, random_state=42)\n",
        "    Train_df = Train_df.reset_index(drop=True)\n",
        "    Valid_df = Valid_df.reset_index(drop=True)\n",
        "    Train_df = augmentasiTrain(Train_df)\n",
        "\n",
        "    # Make Test DataFrame\n",
        "    Test_dict = {\"Id\": X[test_index],\"Class\":y[test_index]}\n",
        "    Test_df = pd.DataFrame(Test_dict)\n",
        "    Test_df = Test_df.reset_index(drop=True)\n",
        "\n",
        "    # Prepare the image\n",
        "    Train_generator = datagen.flow_from_dataframe(\n",
        "      Train_df, \n",
        "      \"/content/gdrive/My Drive/Code TA/Data/Spectogram Librosa\", \n",
        "      x_col='Id',\n",
        "      y_col='Class',\n",
        "      target_size=IMAGE_SIZE,\n",
        "      class_mode=\"categorical\",\n",
        "      batch_size=batch_size\n",
        "    )\n",
        "    Valid_generator = datagen.flow_from_dataframe(\n",
        "      Valid_df, \n",
        "      \"/content/gdrive/My Drive/Code TA/Data/Spectogram Librosa\", \n",
        "      x_col='Id',\n",
        "      y_col='Class',\n",
        "      target_size=IMAGE_SIZE,\n",
        "      class_mode=\"categorical\",\n",
        "      batch_size=batch_size\n",
        "    )\n",
        "    Test_generator = datagen.flow_from_dataframe(\n",
        "      Test_df, \n",
        "      \"/content/gdrive/My Drive/Code TA/Data/Spectogram Librosa\", \n",
        "      x_col='Id',\n",
        "      y_col='Class',\n",
        "      target_size=IMAGE_SIZE,\n",
        "      class_mode=\"categorical\",\n",
        "      batch_size=1\n",
        "    )\n",
        "\n",
        "    # Callbacks\n",
        "    name_weights = \"final_model_fold\" + str(i) + \"_weights.h5\"\n",
        "    callbacks = get_callbacks(name_weights=name_weights, patience_lr=2)\n",
        "\n",
        "    # Fitting\n",
        "    model = get_model()\n",
        "    history = model.fit(\n",
        "      Train_generator, \n",
        "      epochs=15,\n",
        "      validation_data=Valid_generator,\n",
        "      validation_steps=Valid_df.shape[0]//batch_size,\n",
        "      steps_per_epoch=Train_df.shape[0]//batch_size,\n",
        "      callbacks=callbacks\n",
        "    )\n",
        "\n",
        "    test_loss, test_acc = model.evaluate(Test_generator, verbose=2)\n",
        "\n",
        "    print(f'\\nTest accuracy: {test_acc} \\t Test loss: {test_loss}\\n\\n')"
      ],
      "execution_count": null,
      "outputs": [
        {
          "output_type": "stream",
          "text": [
            "====================***   K-Fold 1   ***====================\n",
            "Found 5068 validated image filenames belonging to 4 classes.\n",
            "Found 544 validated image filenames belonging to 4 classes.\n",
            "Found 202 validated image filenames belonging to 4 classes.\n",
            "Epoch 1/15\n",
            "337/337 [==============================] - 1435s 4s/step - loss: 5.6503 - accuracy: 0.4271 - val_loss: 1.2696 - val_accuracy: 0.5296 - lr: 5.0000e-04\n",
            "Epoch 2/15\n",
            "337/337 [==============================] - 38s 114ms/step - loss: 1.3351 - accuracy: 0.4813 - val_loss: 1.1237 - val_accuracy: 0.5278 - lr: 5.0000e-04\n",
            "Epoch 3/15\n",
            "337/337 [==============================] - ETA: 0s - loss: 1.2239 - accuracy: 0.4997\n",
            "Epoch 00003: ReduceLROnPlateau reducing learning rate to 0.0002500000118743628.\n",
            "337/337 [==============================] - 37s 111ms/step - loss: 1.2239 - accuracy: 0.4997 - val_loss: 1.1621 - val_accuracy: 0.5296 - lr: 5.0000e-04\n",
            "Epoch 4/15\n",
            "337/337 [==============================] - 37s 110ms/step - loss: 1.1506 - accuracy: 0.5167 - val_loss: 1.0619 - val_accuracy: 0.5278 - lr: 2.5000e-04\n",
            "Epoch 5/15\n",
            "337/337 [==============================] - ETA: 0s - loss: 1.1377 - accuracy: 0.5236\n",
            "Epoch 00005: ReduceLROnPlateau reducing learning rate to 0.0001250000059371814.\n",
            "337/337 [==============================] - 37s 110ms/step - loss: 1.1377 - accuracy: 0.5236 - val_loss: 1.1513 - val_accuracy: 0.5259 - lr: 2.5000e-04\n",
            "Epoch 6/15\n",
            "337/337 [==============================] - 37s 109ms/step - loss: 1.0909 - accuracy: 0.5331 - val_loss: 1.0349 - val_accuracy: 0.6259 - lr: 1.2500e-04\n",
            "Epoch 7/15\n",
            "337/337 [==============================] - 36s 107ms/step - loss: 1.0717 - accuracy: 0.5432 - val_loss: 1.0479 - val_accuracy: 0.6204 - lr: 1.2500e-04\n",
            "Epoch 8/15\n",
            "337/337 [==============================] - ETA: 0s - loss: 1.0580 - accuracy: 0.5525\n",
            "Epoch 00008: ReduceLROnPlateau reducing learning rate to 6.25000029685907e-05.\n",
            "337/337 [==============================] - 36s 108ms/step - loss: 1.0580 - accuracy: 0.5525 - val_loss: 1.1866 - val_accuracy: 0.6204 - lr: 1.2500e-04\n",
            "Epoch 9/15\n",
            "337/337 [==============================] - 37s 111ms/step - loss: 1.0123 - accuracy: 0.5747 - val_loss: 1.0327 - val_accuracy: 0.6370 - lr: 6.2500e-05\n",
            "Epoch 10/15\n",
            "337/337 [==============================] - 37s 111ms/step - loss: 0.9882 - accuracy: 0.5985 - val_loss: 1.1364 - val_accuracy: 0.6185 - lr: 6.2500e-05\n",
            "Epoch 11/15\n",
            "337/337 [==============================] - 37s 110ms/step - loss: 0.9729 - accuracy: 0.5973 - val_loss: 1.1135 - val_accuracy: 0.6648 - lr: 6.2500e-05\n",
            "Epoch 12/15\n",
            "337/337 [==============================] - 38s 112ms/step - loss: 0.9518 - accuracy: 0.6070 - val_loss: 1.0045 - val_accuracy: 0.6593 - lr: 6.2500e-05\n",
            "Epoch 13/15\n",
            "337/337 [==============================] - 39s 115ms/step - loss: 0.9450 - accuracy: 0.6210 - val_loss: 0.9444 - val_accuracy: 0.6963 - lr: 6.2500e-05\n",
            "Epoch 14/15\n",
            "337/337 [==============================] - 38s 112ms/step - loss: 0.9240 - accuracy: 0.6274 - val_loss: 1.0145 - val_accuracy: 0.6704 - lr: 6.2500e-05\n",
            "Epoch 15/15\n",
            "337/337 [==============================] - 38s 112ms/step - loss: 0.9111 - accuracy: 0.6252 - val_loss: 0.8824 - val_accuracy: 0.7074 - lr: 6.2500e-05\n",
            "202/202 - 49s - loss: 0.8961 - accuracy: 0.6634\n",
            "\n",
            "Test accuracy: 0.6633663177490234 \t Test loss: 0.8961199522018433\n",
            "\n",
            "\n",
            "====================***   K-Fold 2   ***====================\n",
            "Found 5068 validated image filenames belonging to 4 classes.\n",
            "Found 544 validated image filenames belonging to 4 classes.\n",
            "Found 202 validated image filenames belonging to 4 classes.\n",
            "Epoch 1/15\n",
            "337/337 [==============================] - 366s 1s/step - loss: 5.4585 - accuracy: 0.4235 - val_loss: 3.2113 - val_accuracy: 0.5278 - lr: 5.0000e-04\n",
            "Epoch 2/15\n",
            "337/337 [==============================] - 38s 114ms/step - loss: 1.3251 - accuracy: 0.4767 - val_loss: 1.2475 - val_accuracy: 0.5278 - lr: 5.0000e-04\n",
            "Epoch 3/15\n",
            "337/337 [==============================] - ETA: 0s - loss: 1.2384 - accuracy: 0.5021\n",
            "Epoch 00003: ReduceLROnPlateau reducing learning rate to 0.0002500000118743628.\n",
            "337/337 [==============================] - 38s 114ms/step - loss: 1.2384 - accuracy: 0.5021 - val_loss: 1.1491 - val_accuracy: 0.5204 - lr: 5.0000e-04\n",
            "Epoch 4/15\n",
            "337/337 [==============================] - 37s 111ms/step - loss: 1.1672 - accuracy: 0.5165 - val_loss: 1.1780 - val_accuracy: 0.5278 - lr: 2.5000e-04\n",
            "Epoch 5/15\n",
            "337/337 [==============================] - ETA: 0s - loss: 1.1423 - accuracy: 0.5266\n",
            "Epoch 00005: ReduceLROnPlateau reducing learning rate to 0.0001250000059371814.\n",
            "337/337 [==============================] - 37s 110ms/step - loss: 1.1423 - accuracy: 0.5266 - val_loss: 1.1831 - val_accuracy: 0.5278 - lr: 2.5000e-04\n",
            "Epoch 6/15\n",
            "337/337 [==============================] - 38s 113ms/step - loss: 1.0548 - accuracy: 0.5561 - val_loss: 1.0216 - val_accuracy: 0.6463 - lr: 1.2500e-04\n",
            "Epoch 7/15\n",
            "337/337 [==============================] - 38s 114ms/step - loss: 1.0284 - accuracy: 0.5753 - val_loss: 0.9861 - val_accuracy: 0.6370 - lr: 1.2500e-04\n",
            "Epoch 8/15\n",
            "337/337 [==============================] - 38s 114ms/step - loss: 0.9958 - accuracy: 0.5979 - val_loss: 0.9120 - val_accuracy: 0.6685 - lr: 1.2500e-04\n",
            "Epoch 9/15\n",
            "337/337 [==============================] - 38s 111ms/step - loss: 0.9732 - accuracy: 0.6097 - val_loss: 0.9347 - val_accuracy: 0.6519 - lr: 1.2500e-04\n",
            "Epoch 10/15\n",
            "337/337 [==============================] - ETA: 0s - loss: 0.9457 - accuracy: 0.6169\n",
            "Epoch 00010: ReduceLROnPlateau reducing learning rate to 6.25000029685907e-05.\n",
            "337/337 [==============================] - 37s 110ms/step - loss: 0.9457 - accuracy: 0.6169 - val_loss: 0.9895 - val_accuracy: 0.6519 - lr: 1.2500e-04\n",
            "Epoch 11/15\n",
            "337/337 [==============================] - 36s 108ms/step - loss: 0.8694 - accuracy: 0.6549 - val_loss: 0.9319 - val_accuracy: 0.6778 - lr: 6.2500e-05\n",
            "Epoch 12/15\n",
            "337/337 [==============================] - 36s 108ms/step - loss: 0.8639 - accuracy: 0.6507 - val_loss: 0.9239 - val_accuracy: 0.6685 - lr: 6.2500e-05\n",
            "Epoch 13/15\n",
            "337/337 [==============================] - ETA: 0s - loss: 0.8360 - accuracy: 0.6620\n",
            "Epoch 00013: ReduceLROnPlateau reducing learning rate to 3.125000148429535e-05.\n",
            "337/337 [==============================] - 37s 110ms/step - loss: 0.8360 - accuracy: 0.6620 - val_loss: 0.9200 - val_accuracy: 0.6648 - lr: 6.2500e-05\n",
            "Epoch 14/15\n",
            "337/337 [==============================] - 37s 111ms/step - loss: 0.7907 - accuracy: 0.6782 - val_loss: 0.8991 - val_accuracy: 0.6778 - lr: 3.1250e-05\n",
            "Epoch 15/15\n",
            "337/337 [==============================] - 38s 113ms/step - loss: 0.7890 - accuracy: 0.6818 - val_loss: 0.8918 - val_accuracy: 0.6963 - lr: 3.1250e-05\n",
            "202/202 - 2s - loss: 0.7740 - accuracy: 0.6782\n",
            "\n",
            "Test accuracy: 0.6782178282737732 \t Test loss: 0.7740060687065125\n",
            "\n",
            "\n",
            "====================***   K-Fold 3   ***====================\n",
            "Found 5068 validated image filenames belonging to 4 classes.\n",
            "Found 544 validated image filenames belonging to 4 classes.\n",
            "Found 202 validated image filenames belonging to 4 classes.\n",
            "Epoch 1/15\n",
            "337/337 [==============================] - 157s 465ms/step - loss: 5.2655 - accuracy: 0.4140 - val_loss: 1.3851 - val_accuracy: 0.2907 - lr: 5.0000e-04\n",
            "Epoch 2/15\n",
            "337/337 [==============================] - 38s 113ms/step - loss: 1.2761 - accuracy: 0.4837 - val_loss: 1.1921 - val_accuracy: 0.5259 - lr: 5.0000e-04\n",
            "Epoch 3/15\n",
            "337/337 [==============================] - 39s 115ms/step - loss: 1.2300 - accuracy: 0.5147 - val_loss: 1.1700 - val_accuracy: 0.5056 - lr: 5.0000e-04\n",
            "Epoch 4/15\n",
            "337/337 [==============================] - 37s 111ms/step - loss: 1.2241 - accuracy: 0.5151 - val_loss: 1.2021 - val_accuracy: 0.5278 - lr: 5.0000e-04\n",
            "Epoch 5/15\n",
            "337/337 [==============================] - 38s 112ms/step - loss: 1.2034 - accuracy: 0.5201 - val_loss: 1.1574 - val_accuracy: 0.5333 - lr: 5.0000e-04\n",
            "Epoch 6/15\n",
            "337/337 [==============================] - 38s 114ms/step - loss: 1.1942 - accuracy: 0.5242 - val_loss: 1.1285 - val_accuracy: 0.5278 - lr: 5.0000e-04\n",
            "Epoch 7/15\n",
            "337/337 [==============================] - ETA: 0s - loss: 1.2027 - accuracy: 0.5250\n",
            "Epoch 00007: ReduceLROnPlateau reducing learning rate to 0.0002500000118743628.\n",
            "337/337 [==============================] - 37s 110ms/step - loss: 1.2027 - accuracy: 0.5250 - val_loss: 1.2130 - val_accuracy: 0.5259 - lr: 5.0000e-04\n",
            "Epoch 8/15\n",
            "337/337 [==============================] - 37s 109ms/step - loss: 1.1255 - accuracy: 0.5518 - val_loss: 1.1635 - val_accuracy: 0.5704 - lr: 2.5000e-04\n",
            "Epoch 9/15\n",
            "337/337 [==============================] - 37s 111ms/step - loss: 1.1157 - accuracy: 0.5751 - val_loss: 1.0966 - val_accuracy: 0.5352 - lr: 2.5000e-04\n",
            "Epoch 10/15\n",
            "337/337 [==============================] - ETA: 0s - loss: 1.0866 - accuracy: 0.5755\n",
            "Epoch 00010: ReduceLROnPlateau reducing learning rate to 0.0001250000059371814.\n",
            "337/337 [==============================] - 42s 125ms/step - loss: 1.0866 - accuracy: 0.5755 - val_loss: 1.0423 - val_accuracy: 0.5630 - lr: 2.5000e-04\n",
            "Epoch 11/15\n",
            "337/337 [==============================] - 39s 115ms/step - loss: 1.0246 - accuracy: 0.6022 - val_loss: 0.9974 - val_accuracy: 0.6111 - lr: 1.2500e-04\n",
            "Epoch 12/15\n",
            "337/337 [==============================] - 39s 115ms/step - loss: 0.9855 - accuracy: 0.6137 - val_loss: 0.9924 - val_accuracy: 0.6407 - lr: 1.2500e-04\n",
            "Epoch 13/15\n",
            "337/337 [==============================] - 39s 115ms/step - loss: 0.9670 - accuracy: 0.6143 - val_loss: 0.9799 - val_accuracy: 0.6648 - lr: 1.2500e-04\n",
            "Epoch 14/15\n",
            "337/337 [==============================] - 39s 116ms/step - loss: 0.9352 - accuracy: 0.6305 - val_loss: 0.9523 - val_accuracy: 0.6778 - lr: 1.2500e-04\n",
            "Epoch 15/15\n",
            "337/337 [==============================] - 38s 112ms/step - loss: 0.9029 - accuracy: 0.6355 - val_loss: 0.9811 - val_accuracy: 0.6630 - lr: 1.2500e-04\n",
            "202/202 - 2s - loss: 1.0105 - accuracy: 0.6485\n",
            "\n",
            "Test accuracy: 0.6485148668289185 \t Test loss: 1.0104900598526\n",
            "\n",
            "\n",
            "====================***   K-Fold 4   ***====================\n",
            "Found 5072 validated image filenames belonging to 4 classes.\n",
            "Found 544 validated image filenames belonging to 4 classes.\n",
            "Found 201 validated image filenames belonging to 4 classes.\n",
            "Epoch 1/15\n",
            "338/338 [==============================] - 93s 274ms/step - loss: 6.6271 - accuracy: 0.4198 - val_loss: 1.5469 - val_accuracy: 0.2981 - lr: 5.0000e-04\n",
            "Epoch 2/15\n",
            "338/338 [==============================] - 39s 115ms/step - loss: 1.3268 - accuracy: 0.4760 - val_loss: 1.1752 - val_accuracy: 0.5241 - lr: 5.0000e-04\n",
            "Epoch 3/15\n",
            "338/338 [==============================] - 37s 110ms/step - loss: 1.2335 - accuracy: 0.5124 - val_loss: 1.1944 - val_accuracy: 0.5315 - lr: 5.0000e-04\n",
            "Epoch 4/15\n",
            "338/338 [==============================] - 36s 107ms/step - loss: 1.1889 - accuracy: 0.5258 - val_loss: 1.3741 - val_accuracy: 0.5296 - lr: 5.0000e-04\n",
            "Epoch 5/15\n",
            "338/338 [==============================] - 36s 107ms/step - loss: 1.2042 - accuracy: 0.5211 - val_loss: 1.2436 - val_accuracy: 0.5333 - lr: 5.0000e-04\n",
            "Epoch 6/15\n",
            "338/338 [==============================] - 37s 111ms/step - loss: 1.1897 - accuracy: 0.5151 - val_loss: 1.1389 - val_accuracy: 0.5278 - lr: 5.0000e-04\n",
            "Epoch 7/15\n",
            "338/338 [==============================] - ETA: 0s - loss: 1.1750 - accuracy: 0.5213\n",
            "Epoch 00007: ReduceLROnPlateau reducing learning rate to 0.0002500000118743628.\n",
            "338/338 [==============================] - 38s 113ms/step - loss: 1.1750 - accuracy: 0.5213 - val_loss: 1.1194 - val_accuracy: 0.5315 - lr: 5.0000e-04\n",
            "Epoch 8/15\n",
            "338/338 [==============================] - 38s 113ms/step - loss: 1.1275 - accuracy: 0.5266 - val_loss: 1.0780 - val_accuracy: 0.5296 - lr: 2.5000e-04\n",
            "Epoch 9/15\n",
            "338/338 [==============================] - ETA: 0s - loss: 1.1119 - accuracy: 0.5290\n",
            "Epoch 00009: ReduceLROnPlateau reducing learning rate to 0.0001250000059371814.\n",
            "338/338 [==============================] - 38s 113ms/step - loss: 1.1119 - accuracy: 0.5290 - val_loss: 1.0485 - val_accuracy: 0.5296 - lr: 2.5000e-04\n",
            "Epoch 10/15\n",
            "338/338 [==============================] - 37s 111ms/step - loss: 1.0691 - accuracy: 0.5557 - val_loss: 1.0149 - val_accuracy: 0.6037 - lr: 1.2500e-04\n",
            "Epoch 11/15\n",
            "338/338 [==============================] - 38s 112ms/step - loss: 1.0435 - accuracy: 0.5632 - val_loss: 0.9921 - val_accuracy: 0.6074 - lr: 1.2500e-04\n",
            "Epoch 12/15\n",
            "338/338 [==============================] - 38s 112ms/step - loss: 1.0160 - accuracy: 0.5843 - val_loss: 0.9476 - val_accuracy: 0.6296 - lr: 1.2500e-04\n",
            "Epoch 13/15\n",
            "338/338 [==============================] - 38s 113ms/step - loss: 0.9906 - accuracy: 0.5980 - val_loss: 0.9221 - val_accuracy: 0.6537 - lr: 1.2500e-04\n",
            "Epoch 14/15\n",
            "338/338 [==============================] - 39s 115ms/step - loss: 0.9755 - accuracy: 0.6019 - val_loss: 0.8915 - val_accuracy: 0.6463 - lr: 1.2500e-04\n",
            "Epoch 15/15\n",
            "338/338 [==============================] - ETA: 0s - loss: 0.9426 - accuracy: 0.6300\n",
            "Epoch 00015: ReduceLROnPlateau reducing learning rate to 6.25000029685907e-05.\n",
            "338/338 [==============================] - 37s 109ms/step - loss: 0.9426 - accuracy: 0.6300 - val_loss: 0.9170 - val_accuracy: 0.6296 - lr: 1.2500e-04\n",
            "201/201 - 2s - loss: 0.9107 - accuracy: 0.6667\n",
            "\n",
            "Test accuracy: 0.6666666865348816 \t Test loss: 0.91065514087677\n",
            "\n",
            "\n",
            "====================***   K-Fold 5   ***====================\n",
            "Found 5072 validated image filenames belonging to 4 classes.\n",
            "Found 544 validated image filenames belonging to 4 classes.\n",
            "Found 201 validated image filenames belonging to 4 classes.\n",
            "Epoch 1/15\n",
            "338/338 [==============================] - 58s 173ms/step - loss: 7.1434 - accuracy: 0.4222 - val_loss: 1.5355 - val_accuracy: 0.5741 - lr: 5.0000e-04\n",
            "Epoch 2/15\n",
            "338/338 [==============================] - 38s 112ms/step - loss: 1.4275 - accuracy: 0.4677 - val_loss: 1.2447 - val_accuracy: 0.5241 - lr: 5.0000e-04\n",
            "Epoch 3/15\n",
            "338/338 [==============================] - ETA: 0s - loss: 1.2847 - accuracy: 0.4969\n",
            "Epoch 00003: ReduceLROnPlateau reducing learning rate to 0.0002500000118743628.\n",
            "338/338 [==============================] - 37s 110ms/step - loss: 1.2847 - accuracy: 0.4969 - val_loss: 1.8450 - val_accuracy: 0.5259 - lr: 5.0000e-04\n",
            "Epoch 4/15\n",
            "338/338 [==============================] - 36s 107ms/step - loss: 1.1855 - accuracy: 0.5201 - val_loss: 1.3610 - val_accuracy: 0.5278 - lr: 2.5000e-04\n",
            "Epoch 5/15\n",
            "338/338 [==============================] - ETA: 0s - loss: 1.1685 - accuracy: 0.5209\n",
            "Epoch 00005: ReduceLROnPlateau reducing learning rate to 0.0001250000059371814.\n",
            "338/338 [==============================] - 37s 109ms/step - loss: 1.1685 - accuracy: 0.5209 - val_loss: 1.1154 - val_accuracy: 0.5278 - lr: 2.5000e-04\n",
            "Epoch 6/15\n",
            "338/338 [==============================] - 37s 109ms/step - loss: 1.1147 - accuracy: 0.5373 - val_loss: 1.3694 - val_accuracy: 0.5296 - lr: 1.2500e-04\n",
            "Epoch 7/15\n",
            "338/338 [==============================] - ETA: 0s - loss: 1.0819 - accuracy: 0.5610\n",
            "Epoch 00007: ReduceLROnPlateau reducing learning rate to 6.25000029685907e-05.\n",
            "338/338 [==============================] - 37s 111ms/step - loss: 1.0819 - accuracy: 0.5610 - val_loss: 0.9941 - val_accuracy: 0.5648 - lr: 1.2500e-04\n",
            "Epoch 8/15\n",
            "338/338 [==============================] - 37s 109ms/step - loss: 1.0397 - accuracy: 0.5612 - val_loss: 1.0460 - val_accuracy: 0.6296 - lr: 6.2500e-05\n",
            "Epoch 9/15\n",
            "338/338 [==============================] - 36s 107ms/step - loss: 1.0059 - accuracy: 0.5869 - val_loss: 1.1667 - val_accuracy: 0.6519 - lr: 6.2500e-05\n",
            "Epoch 10/15\n",
            "338/338 [==============================] - 36s 106ms/step - loss: 0.9844 - accuracy: 0.5883 - val_loss: 1.0720 - val_accuracy: 0.6481 - lr: 6.2500e-05\n",
            "Epoch 11/15\n",
            "338/338 [==============================] - ETA: 0s - loss: 0.9709 - accuracy: 0.5990\n",
            "Epoch 00011: ReduceLROnPlateau reducing learning rate to 3.125000148429535e-05.\n",
            "338/338 [==============================] - 36s 107ms/step - loss: 0.9709 - accuracy: 0.5990 - val_loss: 1.0946 - val_accuracy: 0.6389 - lr: 6.2500e-05\n",
            "Epoch 12/15\n",
            "338/338 [==============================] - 36s 106ms/step - loss: 0.9228 - accuracy: 0.6053 - val_loss: 1.0251 - val_accuracy: 0.6852 - lr: 3.1250e-05\n",
            "Epoch 13/15\n",
            "338/338 [==============================] - 36s 106ms/step - loss: 0.9131 - accuracy: 0.6185 - val_loss: 1.0995 - val_accuracy: 0.6722 - lr: 3.1250e-05\n",
            "Epoch 14/15\n",
            "338/338 [==============================] - 36s 106ms/step - loss: 0.8860 - accuracy: 0.6265 - val_loss: 1.0234 - val_accuracy: 0.6870 - lr: 3.1250e-05\n",
            "Epoch 15/15\n",
            "338/338 [==============================] - 36s 105ms/step - loss: 0.8875 - accuracy: 0.6284 - val_loss: 0.9977 - val_accuracy: 0.6907 - lr: 3.1250e-05\n",
            "201/201 - 1s - loss: 0.7904 - accuracy: 0.7015\n",
            "\n",
            "Test accuracy: 0.7014925479888916 \t Test loss: 0.7904483675956726\n",
            "\n",
            "\n",
            "====================***   K-Fold 6   ***====================\n",
            "Found 5072 validated image filenames belonging to 4 classes.\n",
            "Found 544 validated image filenames belonging to 4 classes.\n",
            "Found 201 validated image filenames belonging to 4 classes.\n",
            "Epoch 1/15\n",
            "338/338 [==============================] - 53s 157ms/step - loss: 5.4600 - accuracy: 0.4167 - val_loss: 1.1416 - val_accuracy: 0.5241 - lr: 5.0000e-04\n",
            "Epoch 2/15\n",
            "338/338 [==============================] - 36s 108ms/step - loss: 1.3736 - accuracy: 0.4789 - val_loss: 1.1740 - val_accuracy: 0.5315 - lr: 5.0000e-04\n",
            "Epoch 3/15\n",
            "338/338 [==============================] - 36s 106ms/step - loss: 1.4508 - accuracy: 0.4965 - val_loss: 1.2270 - val_accuracy: 0.5278 - lr: 5.0000e-04\n",
            "Epoch 4/15\n",
            "338/338 [==============================] - ETA: 0s - loss: 1.2456 - accuracy: 0.5108\n",
            "Epoch 00004: ReduceLROnPlateau reducing learning rate to 0.0002500000118743628.\n",
            "338/338 [==============================] - 36s 107ms/step - loss: 1.2456 - accuracy: 0.5108 - val_loss: 1.1521 - val_accuracy: 0.5315 - lr: 5.0000e-04\n",
            "Epoch 5/15\n",
            "338/338 [==============================] - 37s 110ms/step - loss: 1.1683 - accuracy: 0.5337 - val_loss: 1.0637 - val_accuracy: 0.5537 - lr: 2.5000e-04\n",
            "Epoch 6/15\n",
            "338/338 [==============================] - 38s 114ms/step - loss: 1.1437 - accuracy: 0.5549 - val_loss: 1.0296 - val_accuracy: 0.6130 - lr: 2.5000e-04\n",
            "Epoch 7/15\n",
            "338/338 [==============================] - 38s 112ms/step - loss: 1.1201 - accuracy: 0.5618 - val_loss: 1.1615 - val_accuracy: 0.5296 - lr: 2.5000e-04\n",
            "Epoch 8/15\n",
            "338/338 [==============================] - 36s 107ms/step - loss: 1.0947 - accuracy: 0.5743 - val_loss: 1.0335 - val_accuracy: 0.6315 - lr: 2.5000e-04\n",
            "Epoch 9/15\n",
            "338/338 [==============================] - 37s 111ms/step - loss: 1.0767 - accuracy: 0.5802 - val_loss: 1.0029 - val_accuracy: 0.6111 - lr: 2.5000e-04\n",
            "Epoch 10/15\n",
            "338/338 [==============================] - 38s 112ms/step - loss: 1.0558 - accuracy: 0.5796 - val_loss: 0.9769 - val_accuracy: 0.6352 - lr: 2.5000e-04\n",
            "Epoch 11/15\n",
            "338/338 [==============================] - 38s 112ms/step - loss: 1.0373 - accuracy: 0.5911 - val_loss: 0.9600 - val_accuracy: 0.6333 - lr: 2.5000e-04\n",
            "Epoch 12/15\n",
            "338/338 [==============================] - 38s 111ms/step - loss: 1.0097 - accuracy: 0.5944 - val_loss: 0.8563 - val_accuracy: 0.6519 - lr: 2.5000e-04\n",
            "Epoch 13/15\n",
            "338/338 [==============================] - 37s 110ms/step - loss: 0.9870 - accuracy: 0.6039 - val_loss: 0.9914 - val_accuracy: 0.6519 - lr: 2.5000e-04\n",
            "Epoch 14/15\n",
            "338/338 [==============================] - 37s 109ms/step - loss: 0.9769 - accuracy: 0.6087 - val_loss: 0.9426 - val_accuracy: 0.6593 - lr: 2.5000e-04\n",
            "Epoch 15/15\n",
            "338/338 [==============================] - 37s 110ms/step - loss: 0.9435 - accuracy: 0.6213 - val_loss: 0.9103 - val_accuracy: 0.6389 - lr: 2.5000e-04\n",
            "201/201 - 2s - loss: 0.8593 - accuracy: 0.6368\n",
            "\n",
            "Test accuracy: 0.6368159055709839 \t Test loss: 0.8592873811721802\n",
            "\n",
            "\n",
            "====================***   K-Fold 7   ***====================\n",
            "Found 5072 validated image filenames belonging to 4 classes.\n",
            "Found 544 validated image filenames belonging to 4 classes.\n",
            "Found 201 validated image filenames belonging to 4 classes.\n",
            "Epoch 1/15\n",
            "338/338 [==============================] - 41s 121ms/step - loss: 5.9559 - accuracy: 0.4283 - val_loss: 1.5369 - val_accuracy: 0.5259 - lr: 5.0000e-04\n",
            "Epoch 2/15\n",
            "338/338 [==============================] - 38s 114ms/step - loss: 1.4140 - accuracy: 0.4748 - val_loss: 1.2058 - val_accuracy: 0.5204 - lr: 5.0000e-04\n",
            "Epoch 3/15\n",
            "338/338 [==============================] - 38s 113ms/step - loss: 1.2636 - accuracy: 0.5076 - val_loss: 1.1502 - val_accuracy: 0.5333 - lr: 5.0000e-04\n",
            "Epoch 4/15\n",
            "338/338 [==============================] - 38s 113ms/step - loss: 1.2124 - accuracy: 0.5167 - val_loss: 1.1462 - val_accuracy: 0.5278 - lr: 5.0000e-04\n",
            "Epoch 5/15\n",
            "338/338 [==============================] - ETA: 0s - loss: 1.2014 - accuracy: 0.5187\n",
            "Epoch 00005: ReduceLROnPlateau reducing learning rate to 0.0002500000118743628.\n",
            "338/338 [==============================] - 38s 111ms/step - loss: 1.2014 - accuracy: 0.5187 - val_loss: 1.1528 - val_accuracy: 0.5259 - lr: 5.0000e-04\n",
            "Epoch 6/15\n",
            "338/338 [==============================] - 37s 111ms/step - loss: 1.1578 - accuracy: 0.5215 - val_loss: 1.2107 - val_accuracy: 0.5315 - lr: 2.5000e-04\n",
            "Epoch 7/15\n",
            "338/338 [==============================] - ETA: 0s - loss: 1.1498 - accuracy: 0.5272\n",
            "Epoch 00007: ReduceLROnPlateau reducing learning rate to 0.0001250000059371814.\n",
            "338/338 [==============================] - 38s 112ms/step - loss: 1.1498 - accuracy: 0.5272 - val_loss: 1.0882 - val_accuracy: 0.5296 - lr: 2.5000e-04\n",
            "Epoch 8/15\n",
            "338/338 [==============================] - 38s 113ms/step - loss: 1.1228 - accuracy: 0.5262 - val_loss: 1.2287 - val_accuracy: 0.5333 - lr: 1.2500e-04\n",
            "Epoch 9/15\n",
            "338/338 [==============================] - 37s 110ms/step - loss: 1.0946 - accuracy: 0.5258 - val_loss: 1.1351 - val_accuracy: 0.6056 - lr: 1.2500e-04\n",
            "Epoch 10/15\n",
            "338/338 [==============================] - 37s 109ms/step - loss: 1.0721 - accuracy: 0.5333 - val_loss: 1.0941 - val_accuracy: 0.5278 - lr: 1.2500e-04\n",
            "Epoch 11/15\n",
            "338/338 [==============================] - ETA: 0s - loss: 1.0786 - accuracy: 0.5363\n",
            "Epoch 00011: ReduceLROnPlateau reducing learning rate to 6.25000029685907e-05.\n",
            "338/338 [==============================] - 38s 112ms/step - loss: 1.0786 - accuracy: 0.5363 - val_loss: 1.0817 - val_accuracy: 0.5315 - lr: 1.2500e-04\n",
            "Epoch 12/15\n",
            "338/338 [==============================] - 38s 114ms/step - loss: 1.0262 - accuracy: 0.5723 - val_loss: 1.0429 - val_accuracy: 0.6185 - lr: 6.2500e-05\n",
            "Epoch 13/15\n",
            "338/338 [==============================] - 37s 111ms/step - loss: 1.0086 - accuracy: 0.5810 - val_loss: 1.3674 - val_accuracy: 0.6056 - lr: 6.2500e-05\n",
            "Epoch 14/15\n",
            "338/338 [==============================] - ETA: 0s - loss: 0.9734 - accuracy: 0.6021\n",
            "Epoch 00014: ReduceLROnPlateau reducing learning rate to 3.125000148429535e-05.\n",
            "338/338 [==============================] - 38s 111ms/step - loss: 0.9734 - accuracy: 0.6021 - val_loss: 1.0754 - val_accuracy: 0.5981 - lr: 6.2500e-05\n",
            "Epoch 15/15\n",
            "338/338 [==============================] - 38s 113ms/step - loss: 0.9545 - accuracy: 0.6140 - val_loss: 1.0032 - val_accuracy: 0.6593 - lr: 3.1250e-05\n",
            "201/201 - 2s - loss: 1.0937 - accuracy: 0.6169\n",
            "\n",
            "Test accuracy: 0.6169154047966003 \t Test loss: 1.093677282333374\n",
            "\n",
            "\n",
            "====================***   K-Fold 8   ***====================\n",
            "Found 5072 validated image filenames belonging to 4 classes.\n",
            "Found 544 validated image filenames belonging to 4 classes.\n",
            "Found 201 validated image filenames belonging to 4 classes.\n",
            "Epoch 1/15\n",
            "338/338 [==============================] - 44s 130ms/step - loss: 5.6040 - accuracy: 0.4236 - val_loss: 2.2968 - val_accuracy: 0.5259 - lr: 5.0000e-04\n",
            "Epoch 2/15\n",
            "338/338 [==============================] - 39s 115ms/step - loss: 1.4530 - accuracy: 0.4764 - val_loss: 1.1860 - val_accuracy: 0.5278 - lr: 5.0000e-04\n",
            "Epoch 3/15\n",
            "338/338 [==============================] - 38s 112ms/step - loss: 1.2732 - accuracy: 0.5104 - val_loss: 1.1976 - val_accuracy: 0.5278 - lr: 5.0000e-04\n",
            "Epoch 4/15\n",
            "338/338 [==============================] - ETA: 0s - loss: 1.2389 - accuracy: 0.5165\n",
            "Epoch 00004: ReduceLROnPlateau reducing learning rate to 0.0002500000118743628.\n",
            "338/338 [==============================] - 37s 109ms/step - loss: 1.2389 - accuracy: 0.5165 - val_loss: 1.2077 - val_accuracy: 0.5241 - lr: 5.0000e-04\n",
            "Epoch 5/15\n",
            "338/338 [==============================] - 38s 112ms/step - loss: 1.1628 - accuracy: 0.5254 - val_loss: 1.0784 - val_accuracy: 0.5296 - lr: 2.5000e-04\n",
            "Epoch 6/15\n",
            "338/338 [==============================] - 38s 111ms/step - loss: 1.1738 - accuracy: 0.5217 - val_loss: 1.1289 - val_accuracy: 0.5259 - lr: 2.5000e-04\n",
            "Epoch 7/15\n",
            "338/338 [==============================] - 38s 112ms/step - loss: 1.1559 - accuracy: 0.5217 - val_loss: 1.0890 - val_accuracy: 0.5407 - lr: 2.5000e-04\n",
            "Epoch 8/15\n",
            "338/338 [==============================] - 38s 112ms/step - loss: 1.1369 - accuracy: 0.5381 - val_loss: 1.7264 - val_accuracy: 0.5722 - lr: 2.5000e-04\n",
            "Epoch 9/15\n",
            "338/338 [==============================] - 37s 111ms/step - loss: 1.1298 - accuracy: 0.5539 - val_loss: 1.1449 - val_accuracy: 0.5278 - lr: 2.5000e-04\n",
            "Epoch 10/15\n",
            "338/338 [==============================] - ETA: 0s - loss: 1.1075 - accuracy: 0.5628\n",
            "Epoch 00010: ReduceLROnPlateau reducing learning rate to 0.0001250000059371814.\n",
            "338/338 [==============================] - 39s 115ms/step - loss: 1.1075 - accuracy: 0.5628 - val_loss: 1.0639 - val_accuracy: 0.5370 - lr: 2.5000e-04\n",
            "Epoch 11/15\n",
            "338/338 [==============================] - 39s 117ms/step - loss: 1.0291 - accuracy: 0.5875 - val_loss: 0.9926 - val_accuracy: 0.6519 - lr: 1.2500e-04\n",
            "Epoch 12/15\n",
            "338/338 [==============================] - 39s 114ms/step - loss: 1.0039 - accuracy: 0.5960 - val_loss: 1.0733 - val_accuracy: 0.6426 - lr: 1.2500e-04\n",
            "Epoch 13/15\n",
            "338/338 [==============================] - 39s 116ms/step - loss: 0.9848 - accuracy: 0.6031 - val_loss: 0.9490 - val_accuracy: 0.6537 - lr: 1.2500e-04\n",
            "Epoch 14/15\n",
            "338/338 [==============================] - 39s 114ms/step - loss: 0.9639 - accuracy: 0.6053 - val_loss: 1.0619 - val_accuracy: 0.6500 - lr: 1.2500e-04\n",
            "Epoch 15/15\n",
            "338/338 [==============================] - 39s 116ms/step - loss: 0.9515 - accuracy: 0.6085 - val_loss: 0.9225 - val_accuracy: 0.6833 - lr: 1.2500e-04\n",
            "201/201 - 2s - loss: 1.1506 - accuracy: 0.5771\n",
            "\n",
            "Test accuracy: 0.5771144032478333 \t Test loss: 1.1506414413452148\n",
            "\n",
            "\n",
            "====================***   K-Fold 9   ***====================\n",
            "Found 5072 validated image filenames belonging to 4 classes.\n",
            "Found 544 validated image filenames belonging to 4 classes.\n",
            "Found 201 validated image filenames belonging to 4 classes.\n",
            "Epoch 1/15\n",
            "338/338 [==============================] - 43s 127ms/step - loss: 4.5874 - accuracy: 0.4083 - val_loss: 1.1554 - val_accuracy: 0.5222 - lr: 5.0000e-04\n",
            "Epoch 2/15\n",
            "338/338 [==============================] - 40s 117ms/step - loss: 1.3632 - accuracy: 0.4781 - val_loss: 1.1434 - val_accuracy: 0.5259 - lr: 5.0000e-04\n",
            "Epoch 3/15\n",
            "338/338 [==============================] - 39s 115ms/step - loss: 1.2380 - accuracy: 0.5139 - val_loss: 1.1772 - val_accuracy: 0.5241 - lr: 5.0000e-04\n",
            "Epoch 4/15\n",
            "338/338 [==============================] - 38s 112ms/step - loss: 1.3159 - accuracy: 0.5116 - val_loss: 1.5264 - val_accuracy: 0.5296 - lr: 5.0000e-04\n",
            "Epoch 5/15\n",
            "338/338 [==============================] - 38s 112ms/step - loss: 1.2415 - accuracy: 0.5187 - val_loss: 1.2427 - val_accuracy: 0.5296 - lr: 5.0000e-04\n",
            "Epoch 6/15\n",
            "338/338 [==============================] - ETA: 0s - loss: 1.2135 - accuracy: 0.5260\n",
            "Epoch 00006: ReduceLROnPlateau reducing learning rate to 0.0002500000118743628.\n",
            "338/338 [==============================] - 38s 112ms/step - loss: 1.2135 - accuracy: 0.5260 - val_loss: 1.7349 - val_accuracy: 0.5278 - lr: 5.0000e-04\n",
            "Epoch 7/15\n",
            "338/338 [==============================] - 38s 114ms/step - loss: 1.1698 - accuracy: 0.5258 - val_loss: 1.2950 - val_accuracy: 0.5278 - lr: 2.5000e-04\n",
            "Epoch 8/15\n",
            "338/338 [==============================] - ETA: 0s - loss: 1.1637 - accuracy: 0.5252\n",
            "Epoch 00008: ReduceLROnPlateau reducing learning rate to 0.0001250000059371814.\n",
            "338/338 [==============================] - 39s 116ms/step - loss: 1.1637 - accuracy: 0.5252 - val_loss: 1.0982 - val_accuracy: 0.5296 - lr: 2.5000e-04\n",
            "Epoch 9/15\n",
            "338/338 [==============================] - 40s 118ms/step - loss: 1.1311 - accuracy: 0.5240 - val_loss: 1.0724 - val_accuracy: 0.5259 - lr: 1.2500e-04\n",
            "Epoch 10/15\n",
            "338/338 [==============================] - 40s 119ms/step - loss: 1.1129 - accuracy: 0.5236 - val_loss: 1.0577 - val_accuracy: 0.5333 - lr: 1.2500e-04\n",
            "Epoch 11/15\n",
            "338/338 [==============================] - 39s 114ms/step - loss: 1.0864 - accuracy: 0.5400 - val_loss: 1.1286 - val_accuracy: 0.6019 - lr: 1.2500e-04\n",
            "Epoch 12/15\n",
            "338/338 [==============================] - 39s 116ms/step - loss: 1.0431 - accuracy: 0.5652 - val_loss: 0.9529 - val_accuracy: 0.6370 - lr: 1.2500e-04\n",
            "Epoch 13/15\n",
            "338/338 [==============================] - 39s 114ms/step - loss: 1.0356 - accuracy: 0.5735 - val_loss: 0.9775 - val_accuracy: 0.6481 - lr: 1.2500e-04\n",
            "Epoch 14/15\n",
            "338/338 [==============================] - 38s 113ms/step - loss: 1.0072 - accuracy: 0.5881 - val_loss: 1.0549 - val_accuracy: 0.5889 - lr: 1.2500e-04\n",
            "Epoch 15/15\n",
            "338/338 [==============================] - 40s 118ms/step - loss: 0.9861 - accuracy: 0.6035 - val_loss: 0.9352 - val_accuracy: 0.6704 - lr: 1.2500e-04\n",
            "201/201 - 2s - loss: 0.8186 - accuracy: 0.6866\n",
            "\n",
            "Test accuracy: 0.6865671873092651 \t Test loss: 0.818642258644104\n",
            "\n",
            "\n",
            "====================***   K-Fold 10   ***====================\n",
            "Found 5072 validated image filenames belonging to 4 classes.\n",
            "Found 544 validated image filenames belonging to 4 classes.\n",
            "Found 201 validated image filenames belonging to 4 classes.\n",
            "Epoch 1/15\n",
            "338/338 [==============================] - 41s 120ms/step - loss: 5.4189 - accuracy: 0.4176 - val_loss: 1.1680 - val_accuracy: 0.5204 - lr: 5.0000e-04\n",
            "Epoch 2/15\n",
            "338/338 [==============================] - 39s 117ms/step - loss: 1.7924 - accuracy: 0.4617 - val_loss: 1.1376 - val_accuracy: 0.5278 - lr: 5.0000e-04\n",
            "Epoch 3/15\n",
            "338/338 [==============================] - 39s 114ms/step - loss: 1.6965 - accuracy: 0.5068 - val_loss: 1.1875 - val_accuracy: 0.5259 - lr: 5.0000e-04\n",
            "Epoch 4/15\n",
            "338/338 [==============================] - ETA: 0s - loss: 1.2466 - accuracy: 0.5195\n",
            "Epoch 00004: ReduceLROnPlateau reducing learning rate to 0.0002500000118743628.\n",
            "338/338 [==============================] - 38s 112ms/step - loss: 1.2466 - accuracy: 0.5195 - val_loss: 1.1804 - val_accuracy: 0.5259 - lr: 5.0000e-04\n",
            "Epoch 5/15\n",
            "338/338 [==============================] - 38s 112ms/step - loss: 1.1700 - accuracy: 0.5226 - val_loss: 1.1748 - val_accuracy: 0.5296 - lr: 2.5000e-04\n",
            "Epoch 6/15\n",
            "338/338 [==============================] - 38s 112ms/step - loss: 1.1572 - accuracy: 0.5250 - val_loss: 1.1815 - val_accuracy: 0.5278 - lr: 2.5000e-04\n",
            "Epoch 7/15\n",
            "338/338 [==============================] - 39s 115ms/step - loss: 1.1481 - accuracy: 0.5272 - val_loss: 1.0953 - val_accuracy: 0.5426 - lr: 2.5000e-04\n",
            "Epoch 8/15\n",
            "338/338 [==============================] - 40s 118ms/step - loss: 1.1126 - accuracy: 0.5236 - val_loss: 1.0407 - val_accuracy: 0.5259 - lr: 2.5000e-04\n",
            "Epoch 9/15\n",
            "338/338 [==============================] - ETA: 0s - loss: 1.0774 - accuracy: 0.5343\n",
            "Epoch 00009: ReduceLROnPlateau reducing learning rate to 0.0001250000059371814.\n",
            "338/338 [==============================] - 40s 117ms/step - loss: 1.0774 - accuracy: 0.5343 - val_loss: 0.9940 - val_accuracy: 0.5426 - lr: 2.5000e-04\n",
            "Epoch 10/15\n",
            "338/338 [==============================] - 39s 117ms/step - loss: 0.9915 - accuracy: 0.5828 - val_loss: 0.9098 - val_accuracy: 0.6167 - lr: 1.2500e-04\n",
            "Epoch 11/15\n",
            "338/338 [==============================] - 39s 114ms/step - loss: 0.9664 - accuracy: 0.5972 - val_loss: 0.9333 - val_accuracy: 0.6185 - lr: 1.2500e-04\n",
            "Epoch 12/15\n",
            "338/338 [==============================] - 38s 111ms/step - loss: 0.9302 - accuracy: 0.6227 - val_loss: 1.1269 - val_accuracy: 0.6148 - lr: 1.2500e-04\n",
            "Epoch 13/15\n",
            "338/338 [==============================] - 37s 111ms/step - loss: 0.9193 - accuracy: 0.6261 - val_loss: 1.0015 - val_accuracy: 0.6648 - lr: 1.2500e-04\n",
            "Epoch 14/15\n",
            "338/338 [==============================] - 39s 114ms/step - loss: 0.9073 - accuracy: 0.6419 - val_loss: 0.8629 - val_accuracy: 0.6852 - lr: 1.2500e-04\n",
            "Epoch 15/15\n",
            "338/338 [==============================] - 38s 113ms/step - loss: 0.8776 - accuracy: 0.6486 - val_loss: 0.9592 - val_accuracy: 0.6778 - lr: 1.2500e-04\n",
            "201/201 - 2s - loss: 1.0354 - accuracy: 0.7065\n",
            "\n",
            "Test accuracy: 0.7064676880836487 \t Test loss: 1.035384178161621\n",
            "\n",
            "\n"
          ],
          "name": "stdout"
        }
      ]
    },
    {
      "cell_type": "code",
      "metadata": {
        "id": "EfYO0srgi6_3",
        "colab_type": "code",
        "colab": {
          "base_uri": "https://localhost:8080/",
          "height": 69
        },
        "outputId": "f2684448-356a-4608-bea9-cfa0c00dd8c7"
      },
      "source": [
        "final_train_df, final_validate_df = train_test_split(train_validate_df, test_size=0.22, stratify = train_validate_df['Class'].values, random_state=42)\n",
        "\n",
        "print(f'Jumlah data train : {len(final_train_df)} ( {round(len(final_train_df)/len(df_for_model)*100,2)} % )')\n",
        "print(f'Jumlah data validasi : {len(final_validate_df)} ( {round(len(final_validate_df)/len(df_for_model)*100,2)} % )')\n",
        "print(f'Jumlah data test : {len(final_test_df)} ( {round(len(final_test_df)/len(df_for_model)*100,2)} % )')"
      ],
      "execution_count": null,
      "outputs": [
        {
          "output_type": "stream",
          "text": [
            "Jumlah data train : 1570 ( 66.27 % )\n",
            "Jumlah data validasi : 443 ( 18.7 % )\n",
            "Jumlah data test : 356 ( 15.03 % )\n"
          ],
          "name": "stdout"
        }
      ]
    },
    {
      "cell_type": "code",
      "metadata": {
        "id": "aTvBLxaAEJ2d",
        "colab_type": "code",
        "colab": {
          "base_uri": "https://localhost:8080/",
          "height": 35
        },
        "outputId": "ba6040b3-f729-4cdf-ff53-c5813663e6e6"
      },
      "source": [
        "final_train_df = final_train_df.reset_index(drop=True)\n",
        "final_validate_df = final_validate_df.reset_index(drop=True)\n",
        "final_train_df_augmented = augmentasiTrain(final_train_df)\n",
        "print(f'Jumlah data train setelah ditambah augmentasi : {len(final_train_df_augmented)}')"
      ],
      "execution_count": null,
      "outputs": [
        {
          "output_type": "stream",
          "text": [
            "Jumlah data train setelah ditambah augmentasi : 6280\n"
          ],
          "name": "stdout"
        }
      ]
    },
    {
      "cell_type": "code",
      "metadata": {
        "id": "o5YDg50ZBR66",
        "colab_type": "code",
        "colab": {
          "base_uri": "https://localhost:8080/",
          "height": 52
        },
        "outputId": "ceaf43c2-32b6-4bea-a0af-77bf693fff6f"
      },
      "source": [
        "final_train_generator = datagen.flow_from_dataframe(\n",
        "    final_train_df_augmented, \n",
        "    \"/content/gdrive/My Drive/Code TA/Data/Spectogram Librosa\", \n",
        "    x_col='Id',\n",
        "    y_col='Class',\n",
        "    target_size=IMAGE_SIZE,\n",
        "    class_mode=\"categorical\",\n",
        "    batch_size=batch_size\n",
        ")\n",
        "\n",
        "final_validate_generator = datagen.flow_from_dataframe(\n",
        "    final_validate_df, \n",
        "    \"/content/gdrive/My Drive/Code TA/Data/Spectogram Librosa\", \n",
        "    x_col='Id',\n",
        "    y_col='Class',\n",
        "    target_size=IMAGE_SIZE,\n",
        "    class_mode=\"categorical\",\n",
        "    batch_size=batch_size\n",
        ")"
      ],
      "execution_count": null,
      "outputs": [
        {
          "output_type": "stream",
          "text": [
            "Found 6280 validated image filenames belonging to 4 classes.\n",
            "Found 443 validated image filenames belonging to 4 classes.\n"
          ],
          "name": "stdout"
        }
      ]
    },
    {
      "cell_type": "code",
      "metadata": {
        "id": "VkXladGEG4tY",
        "colab_type": "code",
        "colab": {
          "base_uri": "https://localhost:8080/",
          "height": 1000
        },
        "outputId": "c6136179-5f92-42e5-a0b3-2aef1403324d"
      },
      "source": [
        "with tf.device('/device:GPU:0'): \n",
        "    # Callbacks\n",
        "    name_weights = \"CNN_with_CrossVal_final_model_weights.h5\"\n",
        "    callbacks = get_callbacks(name_weights=name_weights, patience_lr=2)\n",
        "\n",
        "    # Fitting\n",
        "    model = get_model()\n",
        "    history = model.fit(\n",
        "      final_train_generator, \n",
        "      epochs=60,\n",
        "      validation_data=final_validate_generator,\n",
        "      validation_steps=final_validate_df.shape[0]//batch_size,\n",
        "      steps_per_epoch=final_train_df_augmented.shape[0]//batch_size,\n",
        "      callbacks=callbacks\n",
        "    )"
      ],
      "execution_count": null,
      "outputs": [
        {
          "output_type": "stream",
          "text": [
            "Epoch 1/60\n",
            "418/418 [==============================] - 67s 161ms/step - loss: 5.3998 - accuracy: 0.4211 - val_loss: 1.1757 - val_accuracy: 0.5310 - lr: 5.0000e-04\n",
            "Epoch 2/60\n",
            "418/418 [==============================] - 45s 108ms/step - loss: 1.2965 - accuracy: 0.4886 - val_loss: 1.1789 - val_accuracy: 0.5287 - lr: 5.0000e-04\n",
            "Epoch 3/60\n",
            "418/418 [==============================] - 46s 109ms/step - loss: 1.3051 - accuracy: 0.5074 - val_loss: 1.1708 - val_accuracy: 0.5333 - lr: 5.0000e-04\n",
            "Epoch 4/60\n",
            "418/418 [==============================] - 47s 112ms/step - loss: 1.2319 - accuracy: 0.5180 - val_loss: 1.1372 - val_accuracy: 0.5287 - lr: 5.0000e-04\n",
            "Epoch 5/60\n",
            "418/418 [==============================] - ETA: 0s - loss: 1.2057 - accuracy: 0.5172\n",
            "Epoch 00005: ReduceLROnPlateau reducing learning rate to 0.0002500000118743628.\n",
            "418/418 [==============================] - 46s 109ms/step - loss: 1.2057 - accuracy: 0.5172 - val_loss: 1.2089 - val_accuracy: 0.5287 - lr: 5.0000e-04\n",
            "Epoch 6/60\n",
            "418/418 [==============================] - 46s 110ms/step - loss: 1.1715 - accuracy: 0.5357 - val_loss: 1.1243 - val_accuracy: 0.5816 - lr: 2.5000e-04\n",
            "Epoch 7/60\n",
            "418/418 [==============================] - 46s 111ms/step - loss: 1.1405 - accuracy: 0.5561 - val_loss: 1.1061 - val_accuracy: 0.5471 - lr: 2.5000e-04\n",
            "Epoch 8/60\n",
            "418/418 [==============================] - 46s 110ms/step - loss: 1.1250 - accuracy: 0.5601 - val_loss: 1.0638 - val_accuracy: 0.5931 - lr: 2.5000e-04\n",
            "Epoch 9/60\n",
            "418/418 [==============================] - 46s 110ms/step - loss: 1.0949 - accuracy: 0.5716 - val_loss: 1.0378 - val_accuracy: 0.6184 - lr: 2.5000e-04\n",
            "Epoch 10/60\n",
            "418/418 [==============================] - 46s 110ms/step - loss: 1.0922 - accuracy: 0.5670 - val_loss: 0.9859 - val_accuracy: 0.5839 - lr: 2.5000e-04\n",
            "Epoch 11/60\n",
            "418/418 [==============================] - ETA: 0s - loss: 1.0618 - accuracy: 0.5666\n",
            "Epoch 00011: ReduceLROnPlateau reducing learning rate to 0.0001250000059371814.\n",
            "418/418 [==============================] - 46s 110ms/step - loss: 1.0618 - accuracy: 0.5666 - val_loss: 0.9593 - val_accuracy: 0.5632 - lr: 2.5000e-04\n",
            "Epoch 12/60\n",
            "418/418 [==============================] - 46s 110ms/step - loss: 0.9965 - accuracy: 0.5872 - val_loss: 0.9435 - val_accuracy: 0.6230 - lr: 1.2500e-04\n",
            "Epoch 13/60\n",
            "418/418 [==============================] - 46s 111ms/step - loss: 0.9718 - accuracy: 0.6070 - val_loss: 0.8928 - val_accuracy: 0.6437 - lr: 1.2500e-04\n",
            "Epoch 14/60\n",
            "418/418 [==============================] - 46s 111ms/step - loss: 0.9641 - accuracy: 0.6086 - val_loss: 0.8724 - val_accuracy: 0.6506 - lr: 1.2500e-04\n",
            "Epoch 15/60\n",
            "418/418 [==============================] - 46s 110ms/step - loss: 0.9384 - accuracy: 0.6163 - val_loss: 0.8504 - val_accuracy: 0.6736 - lr: 1.2500e-04\n",
            "Epoch 16/60\n",
            "418/418 [==============================] - 46s 111ms/step - loss: 0.9011 - accuracy: 0.6385 - val_loss: 0.8205 - val_accuracy: 0.6874 - lr: 1.2500e-04\n",
            "Epoch 17/60\n",
            "418/418 [==============================] - 45s 108ms/step - loss: 0.8768 - accuracy: 0.6413 - val_loss: 0.8429 - val_accuracy: 0.6805 - lr: 1.2500e-04\n",
            "Epoch 18/60\n",
            "418/418 [==============================] - ETA: 0s - loss: 0.8600 - accuracy: 0.6581\n",
            "Epoch 00018: ReduceLROnPlateau reducing learning rate to 6.25000029685907e-05.\n",
            "418/418 [==============================] - 46s 109ms/step - loss: 0.8600 - accuracy: 0.6581 - val_loss: 0.8079 - val_accuracy: 0.6782 - lr: 1.2500e-04\n",
            "Epoch 19/60\n",
            "418/418 [==============================] - 46s 110ms/step - loss: 0.7918 - accuracy: 0.6790 - val_loss: 0.7571 - val_accuracy: 0.6943 - lr: 6.2500e-05\n",
            "Epoch 20/60\n",
            "418/418 [==============================] - 45s 107ms/step - loss: 0.7758 - accuracy: 0.6897 - val_loss: 0.7734 - val_accuracy: 0.7080 - lr: 6.2500e-05\n",
            "Epoch 21/60\n",
            "418/418 [==============================] - 45s 106ms/step - loss: 0.7521 - accuracy: 0.6969 - val_loss: 0.7592 - val_accuracy: 0.7218 - lr: 6.2500e-05\n",
            "Epoch 22/60\n",
            "418/418 [==============================] - 44s 106ms/step - loss: 0.7350 - accuracy: 0.7079 - val_loss: 0.7662 - val_accuracy: 0.7218 - lr: 6.2500e-05\n",
            "Epoch 23/60\n",
            "418/418 [==============================] - 44s 106ms/step - loss: 0.7136 - accuracy: 0.7138 - val_loss: 0.7829 - val_accuracy: 0.7264 - lr: 6.2500e-05\n",
            "Epoch 24/60\n",
            "418/418 [==============================] - 46s 110ms/step - loss: 0.6917 - accuracy: 0.7245 - val_loss: 0.7569 - val_accuracy: 0.7080 - lr: 6.2500e-05\n",
            "Epoch 25/60\n",
            "418/418 [==============================] - 46s 111ms/step - loss: 0.6690 - accuracy: 0.7307 - val_loss: 0.7428 - val_accuracy: 0.7310 - lr: 6.2500e-05\n",
            "Epoch 26/60\n",
            "418/418 [==============================] - 45s 107ms/step - loss: 0.6528 - accuracy: 0.7401 - val_loss: 0.7496 - val_accuracy: 0.7034 - lr: 6.2500e-05\n",
            "Epoch 27/60\n",
            "418/418 [==============================] - ETA: 0s - loss: 0.6301 - accuracy: 0.7468\n",
            "Epoch 00027: ReduceLROnPlateau reducing learning rate to 3.125000148429535e-05.\n",
            "418/418 [==============================] - 45s 108ms/step - loss: 0.6301 - accuracy: 0.7468 - val_loss: 0.7164 - val_accuracy: 0.7264 - lr: 6.2500e-05\n",
            "Epoch 28/60\n",
            "418/418 [==============================] - 47s 112ms/step - loss: 0.5908 - accuracy: 0.7662 - val_loss: 0.7136 - val_accuracy: 0.7425 - lr: 3.1250e-05\n",
            "Epoch 29/60\n",
            "418/418 [==============================] - 47s 112ms/step - loss: 0.5670 - accuracy: 0.7797 - val_loss: 0.6966 - val_accuracy: 0.7517 - lr: 3.1250e-05\n",
            "Epoch 30/60\n",
            "418/418 [==============================] - 45s 109ms/step - loss: 0.5651 - accuracy: 0.7725 - val_loss: 0.7041 - val_accuracy: 0.7632 - lr: 3.1250e-05\n",
            "Epoch 31/60\n",
            "418/418 [==============================] - 45s 108ms/step - loss: 0.5583 - accuracy: 0.7780 - val_loss: 0.7349 - val_accuracy: 0.7356 - lr: 3.1250e-05\n",
            "Epoch 32/60\n",
            "418/418 [==============================] - ETA: 0s - loss: 0.5326 - accuracy: 0.7863\n",
            "Epoch 00032: ReduceLROnPlateau reducing learning rate to 1.5625000742147677e-05.\n",
            "418/418 [==============================] - 45s 108ms/step - loss: 0.5326 - accuracy: 0.7863 - val_loss: 0.7638 - val_accuracy: 0.7356 - lr: 3.1250e-05\n",
            "Epoch 33/60\n",
            "418/418 [==============================] - 44s 106ms/step - loss: 0.5122 - accuracy: 0.8022 - val_loss: 0.7279 - val_accuracy: 0.7356 - lr: 1.5625e-05\n",
            "Epoch 34/60\n",
            "418/418 [==============================] - ETA: 0s - loss: 0.4991 - accuracy: 0.8048\n",
            "Epoch 00034: ReduceLROnPlateau reducing learning rate to 1e-05.\n",
            "418/418 [==============================] - 46s 110ms/step - loss: 0.4991 - accuracy: 0.8048 - val_loss: 0.6871 - val_accuracy: 0.7540 - lr: 1.5625e-05\n",
            "Epoch 35/60\n",
            "418/418 [==============================] - 45s 108ms/step - loss: 0.4867 - accuracy: 0.8053 - val_loss: 0.7157 - val_accuracy: 0.7448 - lr: 1.0000e-05\n",
            "Epoch 36/60\n",
            "418/418 [==============================] - 44s 106ms/step - loss: 0.4894 - accuracy: 0.8096 - val_loss: 0.7217 - val_accuracy: 0.7448 - lr: 1.0000e-05\n",
            "Epoch 37/60\n",
            "418/418 [==============================] - 44s 106ms/step - loss: 0.4728 - accuracy: 0.8102 - val_loss: 0.7013 - val_accuracy: 0.7609 - lr: 1.0000e-05\n",
            "Epoch 38/60\n",
            "418/418 [==============================] - 44s 106ms/step - loss: 0.4762 - accuracy: 0.8118 - val_loss: 0.7096 - val_accuracy: 0.7632 - lr: 1.0000e-05\n",
            "Epoch 39/60\n",
            "418/418 [==============================] - 44s 106ms/step - loss: 0.4756 - accuracy: 0.8104 - val_loss: 0.6976 - val_accuracy: 0.7655 - lr: 1.0000e-05\n",
            "Epoch 40/60\n",
            "418/418 [==============================] - 44s 106ms/step - loss: 0.4568 - accuracy: 0.8184 - val_loss: 0.7366 - val_accuracy: 0.7655 - lr: 1.0000e-05\n",
            "Epoch 41/60\n",
            "418/418 [==============================] - 44s 106ms/step - loss: 0.4590 - accuracy: 0.8148 - val_loss: 0.7362 - val_accuracy: 0.7609 - lr: 1.0000e-05\n",
            "Epoch 42/60\n",
            "418/418 [==============================] - 44s 106ms/step - loss: 0.4608 - accuracy: 0.8208 - val_loss: 0.7121 - val_accuracy: 0.7448 - lr: 1.0000e-05\n",
            "Epoch 43/60\n",
            "418/418 [==============================] - 44s 106ms/step - loss: 0.4590 - accuracy: 0.8184 - val_loss: 0.7367 - val_accuracy: 0.7425 - lr: 1.0000e-05\n",
            "Epoch 44/60\n",
            "418/418 [==============================] - 44s 105ms/step - loss: 0.4461 - accuracy: 0.8263 - val_loss: 0.7057 - val_accuracy: 0.7586 - lr: 1.0000e-05\n",
            "Epoch 45/60\n",
            "418/418 [==============================] - 44s 106ms/step - loss: 0.4498 - accuracy: 0.8208 - val_loss: 0.7407 - val_accuracy: 0.7448 - lr: 1.0000e-05\n",
            "Epoch 46/60\n",
            "418/418 [==============================] - 44s 106ms/step - loss: 0.4460 - accuracy: 0.8236 - val_loss: 0.7213 - val_accuracy: 0.7494 - lr: 1.0000e-05\n",
            "Epoch 47/60\n",
            "418/418 [==============================] - 44s 106ms/step - loss: 0.4288 - accuracy: 0.8350 - val_loss: 0.7581 - val_accuracy: 0.7540 - lr: 1.0000e-05\n",
            "Epoch 48/60\n",
            "418/418 [==============================] - 44s 106ms/step - loss: 0.4343 - accuracy: 0.8316 - val_loss: 0.7967 - val_accuracy: 0.7586 - lr: 1.0000e-05\n",
            "Epoch 49/60\n",
            "418/418 [==============================] - 45s 107ms/step - loss: 0.4195 - accuracy: 0.8298 - val_loss: 0.7660 - val_accuracy: 0.7425 - lr: 1.0000e-05\n",
            "Epoch 50/60\n",
            "418/418 [==============================] - 45s 107ms/step - loss: 0.4206 - accuracy: 0.8389 - val_loss: 0.7168 - val_accuracy: 0.7724 - lr: 1.0000e-05\n",
            "Epoch 51/60\n",
            "418/418 [==============================] - 45s 108ms/step - loss: 0.4187 - accuracy: 0.8297 - val_loss: 0.7150 - val_accuracy: 0.7586 - lr: 1.0000e-05\n",
            "Epoch 52/60\n",
            "418/418 [==============================] - 45s 108ms/step - loss: 0.4149 - accuracy: 0.8428 - val_loss: 0.7503 - val_accuracy: 0.7793 - lr: 1.0000e-05\n",
            "Epoch 53/60\n",
            "418/418 [==============================] - 44s 106ms/step - loss: 0.4020 - accuracy: 0.8488 - val_loss: 0.7626 - val_accuracy: 0.7540 - lr: 1.0000e-05\n",
            "Epoch 54/60\n",
            "418/418 [==============================] - 44s 106ms/step - loss: 0.4019 - accuracy: 0.8450 - val_loss: 0.7694 - val_accuracy: 0.7724 - lr: 1.0000e-05\n",
            "Epoch 55/60\n",
            "418/418 [==============================] - 45s 107ms/step - loss: 0.4073 - accuracy: 0.8391 - val_loss: 0.7550 - val_accuracy: 0.7678 - lr: 1.0000e-05\n",
            "Epoch 56/60\n",
            "418/418 [==============================] - 44s 106ms/step - loss: 0.3962 - accuracy: 0.8436 - val_loss: 0.7639 - val_accuracy: 0.7563 - lr: 1.0000e-05\n",
            "Epoch 57/60\n",
            "418/418 [==============================] - 44s 106ms/step - loss: 0.4007 - accuracy: 0.8426 - val_loss: 0.7908 - val_accuracy: 0.7655 - lr: 1.0000e-05\n",
            "Epoch 58/60\n",
            "418/418 [==============================] - 44s 106ms/step - loss: 0.3872 - accuracy: 0.8469 - val_loss: 0.7625 - val_accuracy: 0.7655 - lr: 1.0000e-05\n",
            "Epoch 59/60\n",
            "418/418 [==============================] - 44s 106ms/step - loss: 0.3917 - accuracy: 0.8452 - val_loss: 0.7774 - val_accuracy: 0.7655 - lr: 1.0000e-05\n",
            "Epoch 60/60\n",
            "418/418 [==============================] - 44s 106ms/step - loss: 0.3869 - accuracy: 0.8480 - val_loss: 0.7549 - val_accuracy: 0.7747 - lr: 1.0000e-05\n"
          ],
          "name": "stdout"
        }
      ]
    },
    {
      "cell_type": "code",
      "metadata": {
        "id": "f_-3nrIV8po-",
        "colab_type": "code",
        "colab": {
          "base_uri": "https://localhost:8080/",
          "height": 745
        },
        "outputId": "87c0c160-6a01-4ea5-817c-52d9ff3d4368"
      },
      "source": [
        "model.summary()"
      ],
      "execution_count": null,
      "outputs": [
        {
          "output_type": "stream",
          "text": [
            "Model: \"sequential_6\"\n",
            "_________________________________________________________________\n",
            "Layer (type)                 Output Shape              Param #   \n",
            "=================================================================\n",
            "conv2d_24 (Conv2D)           (None, 224, 224, 32)      896       \n",
            "_________________________________________________________________\n",
            "batch_normalization_24 (Batc (None, 224, 224, 32)      128       \n",
            "_________________________________________________________________\n",
            "max_pooling2d_24 (MaxPooling (None, 112, 112, 32)      0         \n",
            "_________________________________________________________________\n",
            "conv2d_25 (Conv2D)           (None, 112, 112, 64)      18496     \n",
            "_________________________________________________________________\n",
            "batch_normalization_25 (Batc (None, 112, 112, 64)      256       \n",
            "_________________________________________________________________\n",
            "max_pooling2d_25 (MaxPooling (None, 56, 56, 64)        0         \n",
            "_________________________________________________________________\n",
            "conv2d_26 (Conv2D)           (None, 56, 56, 128)       73856     \n",
            "_________________________________________________________________\n",
            "batch_normalization_26 (Batc (None, 56, 56, 128)       512       \n",
            "_________________________________________________________________\n",
            "max_pooling2d_26 (MaxPooling (None, 28, 28, 128)       0         \n",
            "_________________________________________________________________\n",
            "conv2d_27 (Conv2D)           (None, 28, 28, 256)       295168    \n",
            "_________________________________________________________________\n",
            "batch_normalization_27 (Batc (None, 28, 28, 256)       1024      \n",
            "_________________________________________________________________\n",
            "max_pooling2d_27 (MaxPooling (None, 14, 14, 256)       0         \n",
            "_________________________________________________________________\n",
            "flatten_6 (Flatten)          (None, 50176)             0         \n",
            "_________________________________________________________________\n",
            "dense_18 (Dense)             (None, 512)               25690624  \n",
            "_________________________________________________________________\n",
            "dropout_7 (Dropout)          (None, 512)               0         \n",
            "_________________________________________________________________\n",
            "dense_19 (Dense)             (None, 256)               131328    \n",
            "_________________________________________________________________\n",
            "dense_20 (Dense)             (None, 4)                 1028      \n",
            "=================================================================\n",
            "Total params: 26,213,316\n",
            "Trainable params: 26,212,356\n",
            "Non-trainable params: 960\n",
            "_________________________________________________________________\n"
          ],
          "name": "stdout"
        }
      ]
    },
    {
      "cell_type": "code",
      "metadata": {
        "id": "Fv8-pQXbRmHK",
        "colab_type": "code",
        "colab": {
          "base_uri": "https://localhost:8080/",
          "height": 104
        },
        "outputId": "e62a5004-2bba-4c5f-e1f8-133276693753"
      },
      "source": [
        "test_loss, test_acc = model.evaluate(final_test_generator, verbose=2)\n",
        "\n",
        "print(f'\\nTest accuracy: {test_acc} \\t Test loss: {test_loss}\\n\\n')"
      ],
      "execution_count": null,
      "outputs": [
        {
          "output_type": "stream",
          "text": [
            "356/356 - 127s - loss: 0.6328 - accuracy: 0.7809\n",
            "\n",
            "Test accuracy: 0.7808988690376282 \t Test loss: 0.6328259706497192\n",
            "\n",
            "\n"
          ],
          "name": "stdout"
        }
      ]
    },
    {
      "cell_type": "code",
      "metadata": {
        "id": "cRuH1nw1Muz7",
        "colab_type": "code",
        "colab": {}
      },
      "source": [
        "# Save Model\n",
        "# Save the weights\n",
        "model.save_weights('Lung_Classification_model_weights.h5')\n",
        "\n",
        "# Save the model architecture\n",
        "with open('Lung_Classification_model_architecture.json', 'w') as f:\n",
        "    f.write(model.to_json())"
      ],
      "execution_count": null,
      "outputs": []
    },
    {
      "cell_type": "code",
      "metadata": {
        "id": "eq9zJ5lUW0ZA",
        "colab_type": "code",
        "colab": {
          "base_uri": "https://localhost:8080/",
          "height": 592
        },
        "outputId": "b535a689-f860-4211-fa9b-cba8f4478b0d"
      },
      "source": [
        "# Virtualize Training\n",
        "\n",
        "fig, ax = plt.subplots(2,1)\n",
        "plt.gcf().set_size_inches(15, 10)\n",
        "ax[0].plot(history.history['loss'], color='b', label=\"Training loss\")\n",
        "ax[0].plot(history.history['val_loss'], color='r', label=\"validation loss\",axes =ax[0])\n",
        "legend = ax[0].legend(loc='best', shadow=True)\n",
        "\n",
        "ax[1].plot(history.history['accuracy'], color='b', label=\"Training accuracy\")\n",
        "ax[1].plot(history.history['val_accuracy'], color='r',label=\"Validation accuracy\")\n",
        "legend = ax[1].legend(loc='best', shadow=True)"
      ],
      "execution_count": null,
      "outputs": [
        {
          "output_type": "display_data",
          "data": {
            "image/png": "[encoded data removed]",
            "text/plain": [
              "<Figure size 1080x720 with 2 Axes>"
            ]
          },
          "metadata": {
            "tags": [],
            "needs_background": "light"
          }
        }
      ]
    },
    {
      "cell_type": "code",
      "metadata": {
        "id": "dxUxhADeBX3i",
        "colab_type": "code",
        "colab": {
          "base_uri": "https://localhost:8080/",
          "height": 52
        },
        "outputId": "27c2c097-3d5c-4420-f8b6-57e84a963cf6"
      },
      "source": [
        "predict = model.predict(final_test_generator, verbose=2)"
      ],
      "execution_count": null,
      "outputs": [
        {
          "output_type": "stream",
          "text": [
            "Found 356 validated image filenames belonging to 4 classes.\n",
            "356/356 - 2s\n"
          ],
          "name": "stdout"
        }
      ]
    },
    {
      "cell_type": "code",
      "metadata": {
        "id": "08w9qQQ9B9o8",
        "colab_type": "code",
        "colab": {
          "base_uri": "https://localhost:8080/",
          "height": 35
        },
        "outputId": "2e2a8e10-af93-4273-f4f5-57706c7eb194"
      },
      "source": [
        "(final_test_generator.class_indices)"
      ],
      "execution_count": null,
      "outputs": [
        {
          "output_type": "execute_result",
          "data": {
            "text/plain": [
              "{'0': 0, '1': 1, '2': 2, '3': 3}"
            ]
          },
          "metadata": {
            "tags": []
          },
          "execution_count": 82
        }
      ]
    },
    {
      "cell_type": "code",
      "metadata": {
        "id": "6N3uRAvmEwuH",
        "colab_type": "code",
        "colab": {
          "base_uri": "https://localhost:8080/",
          "height": 55
        },
        "outputId": "c1fa5eff-f12c-4ff0-9949-711530c5b0f9"
      },
      "source": [
        "predict_dec = predict.argmax(axis=-1)\n",
        "predict_dec = list(map(str,predict_dec))\n",
        "print(predict_dec)"
      ],
      "execution_count": null,
      "outputs": [
        {
          "output_type": "stream",
          "text": [
            "['2', '0', '1', '0', '0', '0', '0', '1', '1', '0', '0', '0', '0', '3', '0', '0', '0', '0', '0', '1', '1', '0', '1', '0', '2', '0', '0', '0', '0', '0', '1', '1', '0', '0', '0', '0', '0', '2', '0', '2', '0', '3', '1', '2', '1', '2', '1', '3', '0', '2', '0', '0', '1', '0', '2', '1', '0', '1', '2', '2', '0', '1', '0', '0', '0', '0', '1', '0', '0', '0', '0', '1', '0', '2', '0', '1', '0', '0', '1', '0', '0', '1', '0', '1', '2', '0', '0', '3', '0', '1', '3', '2', '2', '0', '0', '0', '0', '2', '0', '0', '0', '1', '1', '3', '3', '2', '0', '1', '2', '1', '0', '1', '0', '0', '0', '1', '3', '0', '1', '0', '2', '0', '0', '2', '1', '0', '0', '0', '0', '0', '0', '1', '1', '0', '0', '1', '2', '0', '0', '0', '1', '1', '1', '0', '0', '1', '0', '0', '1', '1', '0', '1', '0', '1', '0', '0', '0', '0', '0', '1', '2', '0', '0', '1', '0', '0', '1', '0', '1', '0', '0', '0', '0', '2', '0', '0', '0', '1', '2', '1', '0', '2', '2', '2', '0', '0', '0', '0', '1', '1', '2', '1', '0', '0', '0', '0', '0', '0', '0', '0', '1', '1', '0', '3', '1', '0', '1', '1', '0', '2', '0', '0', '0', '0', '1', '0', '0', '0', '1', '0', '1', '0', '0', '2', '0', '0', '0', '1', '0', '0', '0', '0', '0', '1', '0', '1', '1', '0', '1', '1', '0', '1', '3', '0', '1', '0', '0', '0', '0', '3', '0', '3', '0', '1', '2', '0', '1', '2', '1', '1', '0', '1', '1', '1', '0', '2', '0', '0', '2', '0', '0', '0', '0', '2', '0', '1', '0', '0', '3', '1', '0', '0', '0', '0', '1', '0', '1', '1', '2', '0', '0', '0', '0', '0', '0', '1', '0', '0', '1', '2', '0', '0', '0', '1', '2', '1', '0', '0', '1', '0', '0', '0', '0', '3', '0', '2', '0', '0', '2', '2', '0', '0', '0', '0', '0', '2', '2', '1', '2', '0', '2', '0', '1', '0', '3', '1', '2', '1', '0', '1', '0', '0', '2', '1', '0', '2', '0', '1', '0', '3', '0', '0', '3', '0', '0', '0']\n"
          ],
          "name": "stdout"
        }
      ]
    },
    {
      "cell_type": "code",
      "metadata": {
        "id": "1-jaHEYNEz1l",
        "colab_type": "code",
        "colab": {
          "base_uri": "https://localhost:8080/",
          "height": 87
        },
        "outputId": "6d49e258-d779-45dc-91c7-e617f7414a4c"
      },
      "source": [
        "conf_mat = confusion_matrix(final_test_df[\"Class\"].values, predict_dec)\n",
        "conf_mat"
      ],
      "execution_count": null,
      "outputs": [
        {
          "output_type": "execute_result",
          "data": {
            "text/plain": [
              "array([[162,  21,   4,   1],\n",
              "       [ 28,  67,   0,   1],\n",
              "       [  9,   1,  35,   1],\n",
              "       [  3,   1,   8,  14]])"
            ]
          },
          "metadata": {
            "tags": []
          },
          "execution_count": 85
        }
      ]
    },
    {
      "cell_type": "code",
      "metadata": {
        "id": "0SHnQ6fiGccW",
        "colab_type": "code",
        "colab": {
          "base_uri": "https://localhost:8080/",
          "height": 208
        },
        "outputId": "edc27f0e-49c2-46a4-e8f2-ccfb783180ea"
      },
      "source": [
        "print(classification_report(final_test_df[\"Class\"].values, predict_dec, target_names=[\"Normal\",\"Crackle\",\"Wheeze\",\"Crackle and Wheeze\"]))"
      ],
      "execution_count": null,
      "outputs": [
        {
          "output_type": "stream",
          "text": [
            "                    precision    recall  f1-score   support\n",
            "\n",
            "            Normal       0.80      0.86      0.83       188\n",
            "           Crackle       0.74      0.70      0.72        96\n",
            "            Wheeze       0.74      0.76      0.75        46\n",
            "Crackle and Wheeze       0.82      0.54      0.65        26\n",
            "\n",
            "          accuracy                           0.78       356\n",
            "         macro avg       0.78      0.71      0.74       356\n",
            "      weighted avg       0.78      0.78      0.78       356\n",
            "\n"
          ],
          "name": "stdout"
        }
      ]
    },
    {
      "cell_type": "code",
      "metadata": {
        "id": "02MgYJgnGnIF",
        "colab_type": "code",
        "colab": {}
      },
      "source": [
        ""
      ],
      "execution_count": null,
      "outputs": []
    }
  ]
}